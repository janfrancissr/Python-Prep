{
 "cells": [
  {
   "attachments": {},
   "cell_type": "markdown",
   "metadata": {},
   "source": [
    "## Flujos de Control"
   ]
  },
  {
   "attachments": {},
   "cell_type": "markdown",
   "metadata": {},
   "source": [
    "1) Crear una variable que contenga un elemento del conjunto de números enteros y luego imprimir por pantalla si es mayor o menor a cero"
   ]
  },
  {
   "cell_type": "code",
   "execution_count": 1,
   "metadata": {},
   "outputs": [
    {
     "name": "stdout",
     "output_type": "stream",
     "text": [
      "La varaible es mayor a cero\n"
     ]
    }
   ],
   "source": [
    "a = 5\n",
    "if (a < 0):\n",
    "    print('La variable es menor a cero')\n",
    "elif (a > 0): \n",
    "    print('La variable es mayor a cero')\n",
    "else:\n",
    "    print('La variable es igual a cero')"
   ]
  },
  {
   "attachments": {},
   "cell_type": "markdown",
   "metadata": {},
   "source": [
    "2) Crear dos variables y un condicional que informe si son del mismo tipo de dato"
   ]
  },
  {
   "cell_type": "code",
   "execution_count": 2,
   "metadata": {},
   "outputs": [
    {
     "name": "stdout",
     "output_type": "stream",
     "text": [
      "Las variables son de tipos de dato diferentes\n"
     ]
    }
   ],
   "source": [
    "a = 2\n",
    "b = 'hola'\n",
    "if (type(a) == type(b)):\n",
    "    print('Las variables son del mismo tipo de dato')\n",
    "else:\n",
    "    print('Las variables son de tipos de dato diferentes')"
   ]
  },
  {
   "attachments": {},
   "cell_type": "markdown",
   "metadata": {},
   "source": [
    "3) Para los valores enteros del 1 al 20, imprimir por pantalla si es par o impar"
   ]
  },
  {
   "cell_type": "code",
   "execution_count": 3,
   "metadata": {},
   "outputs": [
    {
     "name": "stdout",
     "output_type": "stream",
     "text": [
      "El número  1  es impar\n",
      "El número  2  es par\n",
      "El número  3  es impar\n",
      "El número  4  es par\n",
      "El número  5  es impar\n",
      "El número  6  es par\n",
      "El número  7  es impar\n",
      "El número  8  es par\n",
      "El número  9  es impar\n",
      "El número  10  es par\n",
      "El número  11  es impar\n",
      "El número  12  es par\n",
      "El número  13  es impar\n",
      "El número  14  es par\n",
      "El número  15  es impar\n",
      "El número  16  es par\n",
      "El número  17  es impar\n",
      "El número  18  es par\n",
      "El número  19  es impar\n",
      "El número  20  es par\n"
     ]
    }
   ],
   "source": [
    "\n",
    "for i in range(1, 21):\n",
    "    if i % 2 == 0:\n",
    "        print('El número ', str(i), ' es par')\n",
    "    else:\n",
    "        print('El número ', str(i), ' es impar')"
   ]
  },
  {
   "attachments": {},
   "cell_type": "markdown",
   "metadata": {},
   "source": [
    "4) En un ciclo for mostrar para los valores entre 0 y 5 el resultado de elevarlo a la potencia igual a 3"
   ]
  },
  {
   "cell_type": "code",
   "execution_count": 4,
   "metadata": {},
   "outputs": [
    {
     "name": "stdout",
     "output_type": "stream",
     "text": [
      "Valor: 0  Elevado a la 3ra potencia: 0\n",
      "Valor: 1  Elevado a la 3ra potencia: 1\n",
      "Valor: 2  Elevado a la 3ra potencia: 8\n",
      "Valor: 3  Elevado a la 3ra potencia: 27\n",
      "Valor: 4  Elevado a la 3ra potencia: 64\n",
      "Valor: 5  Elevado a la 3ra potencia: 125\n"
     ]
    }
   ],
   "source": [
    "for i in range(0, 6):\n",
    "    print('Valor:', str(i), ' Elevado a la 3ra potencia:', str(i**3))"
   ]
  },
  {
   "cell_type": "code",
   "execution_count": 12,
   "metadata": {},
   "outputs": [
    {
     "name": "stdout",
     "output_type": "stream",
     "text": [
      "0  elevado al cubo es  0\n",
      "1  elevado al cubo es  1\n",
      "2  elevado al cubo es  8\n",
      "3  elevado al cubo es  27\n",
      "4  elevado al cubo es  64\n",
      "5  elevado al cubo es  125\n"
     ]
    }
   ],
   "source": [
    "#Probable buena práctica y simple:\n",
    "for i in range(0,6):\n",
    "    print(str(i),' elevado al cubo es ', str(i ** 3))"
   ]
  },
  {
   "attachments": {},
   "cell_type": "markdown",
   "metadata": {},
   "source": [
    "5) Crear una variable que contenga un número entero y realizar un ciclo for la misma cantidad de ciclos"
   ]
  },
  {
   "cell_type": "code",
   "execution_count": 81,
   "metadata": {},
   "outputs": [
    {
     "name": "stdout",
     "output_type": "stream",
     "text": [
      "1\n",
      "2\n",
      "3\n",
      "4\n",
      "5\n",
      "6\n",
      "7\n",
      "8\n"
     ]
    }
   ],
   "source": [
    "#break → rompe todo el ciclo o bucle\n",
    "#En este caso solo logra imprimir el primero elemento 0 y se rompe el ciclo, terminando o ralizando solo un ciclo\n",
    "n = 9\n",
    "for i in range(0,n):\n",
    "    print(i)\n",
    "    break\n",
    "    "
   ]
  },
  {
   "attachments": {},
   "cell_type": "markdown",
   "metadata": {},
   "source": [
    "# Probando: Sentencia \"pass\""
   ]
  },
  {
   "cell_type": "code",
   "execution_count": 14,
   "metadata": {},
   "outputs": [
    {
     "name": "stdout",
     "output_type": "stream",
     "text": [
      "1\n",
      "2\n",
      "3\n",
      "4\n",
      "5\n",
      "6\n",
      "7\n",
      "8\n",
      "9\n"
     ]
    }
   ],
   "source": [
    "for i in range(1,10):\n",
    "    if True:\n",
    "        pass\n",
    "    elif False:\n",
    "        pass\n",
    "    print(i)"
   ]
  },
  {
   "cell_type": "code",
   "execution_count": 12,
   "metadata": {},
   "outputs": [
    {
     "name": "stdout",
     "output_type": "stream",
     "text": [
      "1\n",
      "2\n",
      "Soy mayor que 2:\n",
      "3\n",
      "Soy mayor que 2:\n",
      "4\n",
      "Soy mayor que 2:\n",
      "5\n",
      "Soy mayor que 2:\n",
      "6\n",
      "Soy mayor que 2:\n",
      "7\n",
      "Soy mayor que 2:\n",
      "8\n",
      "Soy mayor que 2:\n",
      "9\n"
     ]
    }
   ],
   "source": [
    "for i in range(1,10):\n",
    "    if i > 2:\n",
    "        print(\"Soy mayor que 2:\")\n",
    "    elif False:\n",
    "        pass\n",
    "    print(i)"
   ]
  },
  {
   "attachments": {},
   "cell_type": "markdown",
   "metadata": {},
   "source": [
    "6) Utilizar un ciclo while para realizar el factorial de un número guardado en una variable, sólo si la variable contiene un número entero mayor a 0"
   ]
  },
  {
   "cell_type": "code",
   "execution_count": 92,
   "metadata": {},
   "outputs": [
    {
     "name": "stdout",
     "output_type": "stream",
     "text": [
      "El factorial de 5 es 120\n"
     ]
    }
   ],
   "source": [
    "#completo pero con menos variables:\n",
    "a = 5\n",
    "b = a #Esta b solo uso para guardar el valor inicial de la variable ingresada\n",
    "factorial = 1\n",
    "if (type(a)) == int:\n",
    "    if (a > 0):\n",
    "        while (a > 1):\n",
    "            factorial = factorial * a\n",
    "            a -= 1\n",
    "            pass\n",
    "        print('El factorial de',str(b),'es',str(factorial))\n",
    "    else:\n",
    "        print(\"El número o variable debe ser mayor que cero\")\n",
    "else:\n",
    "    print(\"El número o variable debe ser un número entero\")"
   ]
  },
  {
   "cell_type": "code",
   "execution_count": 52,
   "metadata": {},
   "outputs": [
    {
     "name": "stdout",
     "output_type": "stream",
     "text": [
      "El factorial de 5 es 120\n"
     ]
    }
   ],
   "source": [
    "#Con ciclo while - solo si la variable contiene un número entero mayor a 0\n",
    "a = 5\n",
    "f = a\n",
    "i = 1\n",
    "if (type(a) == int):\n",
    "    if a > 0:\n",
    "        while i < a:\n",
    "            f = f*(a-i)\n",
    "            i+=1\n",
    "        print(\"El factorial de\",a,\"es\",f)\n",
    "    else:\n",
    "        print(\"la variable no es mayor a cero\")\n",
    "else:\n",
    "    print(\"La variable no es un número entero\")\n",
    "\n",
    "\n"
   ]
  },
  {
   "cell_type": "code",
   "execution_count": 53,
   "metadata": {},
   "outputs": [
    {
     "name": "stdout",
     "output_type": "stream",
     "text": [
      "El factorial de 6 es 720\n"
     ]
    }
   ],
   "source": [
    "#Con ciclo while - simple factorial\n",
    "a = 6\n",
    "f = a\n",
    "i = 1\n",
    "while i < a:\n",
    "    f = f*(a-i)\n",
    "    i+=1\n",
    "print(\"El factorial de\",a,\"es\",f)"
   ]
  },
  {
   "cell_type": "code",
   "execution_count": 54,
   "metadata": {},
   "outputs": [
    {
     "name": "stdout",
     "output_type": "stream",
     "text": [
      "El factorial de 6 es 720\n"
     ]
    }
   ],
   "source": [
    "#Con ciclo for - simple factorial\n",
    "a = 6\n",
    "f = a\n",
    "for i in range(1,a-1):\n",
    "    f = f*(a-i)\n",
    "    pass  \n",
    "print(\"El factorial de\",a,\"es\",f)"
   ]
  },
  {
   "attachments": {},
   "cell_type": "markdown",
   "metadata": {},
   "source": [
    "7) Crear un ciclo for dentro de un ciclo while"
   ]
  },
  {
   "cell_type": "code",
   "execution_count": 72,
   "metadata": {},
   "outputs": [
    {
     "name": "stdout",
     "output_type": "stream",
     "text": [
      "ciclo while cuando n = 2\n",
      "ciclo for cuando i = 1\n",
      "ciclo while cuando n = 3\n",
      "ciclo for cuando i = 1\n",
      "ciclo while cuando n = 3\n",
      "ciclo for cuando i = 2\n",
      "ciclo while cuando n = 4\n",
      "ciclo for cuando i = 1\n",
      "ciclo while cuando n = 4\n",
      "ciclo for cuando i = 2\n",
      "ciclo while cuando n = 4\n",
      "ciclo for cuando i = 3\n",
      "ciclo while cuando n = 5\n",
      "ciclo for cuando i = 1\n",
      "ciclo while cuando n = 5\n",
      "ciclo for cuando i = 2\n",
      "ciclo while cuando n = 5\n",
      "ciclo for cuando i = 3\n",
      "ciclo while cuando n = 5\n",
      "ciclo for cuando i = 4\n"
     ]
    }
   ],
   "source": [
    "n = 0\n",
    "while n < 5:\n",
    "    n += 1\n",
    "    for i in range(1,n):\n",
    "        print('ciclo while cuando n =',n) \n",
    "        print('ciclo for cuando i =',i) "
   ]
  },
  {
   "cell_type": "code",
   "execution_count": 78,
   "metadata": {},
   "outputs": [
    {
     "name": "stdout",
     "output_type": "stream",
     "text": [
      "ciclo while cuando n = 1\n",
      "ciclo for cuando i = 0\n",
      "ciclo while cuando n = 2\n",
      "ciclo for cuando i = 0\n",
      "ciclo while cuando n = 2\n",
      "ciclo for cuando i = 1\n",
      "ciclo while cuando n = 3\n",
      "ciclo for cuando i = 0\n",
      "ciclo while cuando n = 3\n",
      "ciclo for cuando i = 1\n",
      "ciclo while cuando n = 3\n",
      "ciclo for cuando i = 2\n",
      "ciclo while cuando n = 4\n",
      "ciclo for cuando i = 0\n",
      "ciclo while cuando n = 4\n",
      "ciclo for cuando i = 1\n",
      "ciclo while cuando n = 4\n",
      "ciclo for cuando i = 2\n",
      "ciclo while cuando n = 4\n",
      "ciclo for cuando i = 3\n"
     ]
    }
   ],
   "source": [
    "n = 0\n",
    "while n < 5:\n",
    "    for i in range(1,n):\n",
    "        \n",
    "        print('ciclo while cuando n =',n) \n",
    "        print('ciclo for cuando i =',i) \n",
    "    n += 1"
   ]
  },
  {
   "attachments": {},
   "cell_type": "markdown",
   "metadata": {},
   "source": [
    "8) Crear un ciclo while dentro de un ciclo for"
   ]
  },
  {
   "cell_type": "code",
   "execution_count": 97,
   "metadata": {},
   "outputs": [
    {
     "name": "stdout",
     "output_type": "stream",
     "text": [
      "Iteración del ciclo for: 1\n",
      "  Iteración del ciclo while: 1\n",
      "  Iteración del ciclo while: 2\n",
      "  Iteración del ciclo while: 3\n",
      "Iteración del ciclo for: 2\n",
      "  Iteración del ciclo while: 1\n",
      "  Iteración del ciclo while: 2\n",
      "  Iteración del ciclo while: 3\n",
      "Iteración del ciclo for: 3\n",
      "  Iteración del ciclo while: 1\n",
      "  Iteración del ciclo while: 2\n",
      "  Iteración del ciclo while: 3\n"
     ]
    }
   ],
   "source": [
    "for i in range(1, 4):\n",
    "    print(\"Iteración del ciclo for:\", str(i))\n",
    "    j = 1\n",
    "    while j <= 3:\n",
    "        print(\"  Iteración del ciclo while:\", str(j))\n",
    "        j += 1"
   ]
  },
  {
   "cell_type": "code",
   "execution_count": 102,
   "metadata": {},
   "outputs": [
    {
     "name": "stdout",
     "output_type": "stream",
     "text": [
      "Ciclo for cuando i = 1\n",
      "Ciclo while cuando n = 1\n",
      "Ciclo while cuando n = 2\n",
      "Ciclo while cuando n = 3\n",
      "Ciclo for cuando i = 2\n",
      "Ciclo while cuando n = 1\n",
      "Ciclo while cuando n = 2\n",
      "Ciclo while cuando n = 3\n",
      "Ciclo for cuando i = 3\n",
      "Ciclo while cuando n = 1\n",
      "Ciclo while cuando n = 2\n",
      "Ciclo while cuando n = 3\n"
     ]
    }
   ],
   "source": [
    "\n",
    "for i in range(1,4):\n",
    "    print('Ciclo for cuando i =',str(i))\n",
    "    n = 1\n",
    "    while n < 4:\n",
    "        print('Ciclo while cuando n =',str(n))\n",
    "        n += 1"
   ]
  },
  {
   "cell_type": "code",
   "execution_count": 104,
   "metadata": {},
   "outputs": [
    {
     "name": "stdout",
     "output_type": "stream",
     "text": [
      "Ciclo for cuando i = 1\n",
      "Ciclo while cuando j = 1\n",
      "Ciclo while cuando j = 2\n",
      "Ciclo while cuando j = 3\n",
      "Ciclo while cuando j = 4\n",
      "Ciclo for cuando i = 2\n",
      "Ciclo while cuando j = 1\n",
      "Ciclo while cuando j = 2\n",
      "Ciclo while cuando j = 3\n",
      "Ciclo while cuando j = 4\n",
      "Ciclo for cuando i = 3\n",
      "Ciclo while cuando j = 1\n",
      "Ciclo while cuando j = 2\n",
      "Ciclo while cuando j = 3\n",
      "Ciclo while cuando j = 4\n"
     ]
    }
   ],
   "source": [
    "for i in range(1,4):\n",
    "    print('Ciclo for cuando i =',str(i))\n",
    "    j = 1\n",
    "    while j < 5:\n",
    "        print('Ciclo while cuando j =',str(j))\n",
    "        j += 1"
   ]
  },
  {
   "attachments": {},
   "cell_type": "markdown",
   "metadata": {},
   "source": [
    "9) Imprimir los números primos existentes entre 0 y 30"
   ]
  },
  {
   "cell_type": "code",
   "execution_count": 149,
   "metadata": {},
   "outputs": [
    {
     "name": "stdout",
     "output_type": "stream",
     "text": [
      "0 es primo\n",
      "1 es primo\n",
      "2 es primo\n",
      "3 es primo\n",
      "5 es primo\n",
      "7 es primo\n",
      "11 es primo\n",
      "13 es primo\n",
      "17 es primo\n",
      "19 es primo\n",
      "23 es primo\n",
      "29 es primo\n"
     ]
    }
   ],
   "source": [
    "for nro in range(0,31):\n",
    "    es_primo = True #se crea una variable booleana para guardar \"es verdadero mientras se demuestre lo contario\"\n",
    "    for i in range(2,nro):\n",
    "        if (nro % i == 0):\n",
    "            es_primo = False #si el resto de dividir nro con i es 0, entonces variable booleana se cambia a False\n",
    "    if (es_primo):\n",
    "        print(nro, 'es primo')\n",
    "    #else:\n",
    "        #print(nro, 'no es primo')"
   ]
  },
  {
   "attachments": {},
   "cell_type": "markdown",
   "metadata": {},
   "source": [
    "10) ¿Se puede mejorar el proceso del punto 9? Utilizar las sentencias break y/ó continue para tal fin"
   ]
  },
  {
   "cell_type": "code",
   "execution_count": 155,
   "metadata": {},
   "outputs": [
    {
     "name": "stdout",
     "output_type": "stream",
     "text": [
      "0 es primo\n",
      "1 es primo\n",
      "2 es primo\n",
      "3 es primo\n",
      "5 es primo\n",
      "7 es primo\n",
      "11 es primo\n",
      "13 es primo\n",
      "17 es primo\n",
      "19 es primo\n",
      "23 es primo\n",
      "29 es primo\n",
      "cantidad de ciclos 135\n"
     ]
    }
   ],
   "source": [
    "cant_ciclos = 0\n",
    "for nro in range(0,31):\n",
    "    es_primo = True #se crea una variable booleana para guardar \"es verdadero mientras se demuestre lo contario\"\n",
    "    for i in range(2,nro):\n",
    "        cant_ciclos += 1\n",
    "        if (nro % i == 0):\n",
    "            es_primo = False #si el resto de dividir nro con i es 0, entonces variable booleana se cambia a False\n",
    "            break #gracias a que rompemos el ciclo, es más óptimo, va hacer menos ciclos for, de 406 ciclos a 135 ciclos\n",
    "    if (es_primo):\n",
    "        print(nro, 'es primo')\n",
    "    #else:\n",
    "        #print(nro, 'no es primo')\n",
    "print('cantidad de ciclos',cant_ciclos)"
   ]
  },
  {
   "attachments": {},
   "cell_type": "markdown",
   "metadata": {},
   "source": [
    "11) En los puntos 9 y 10, se diseño un código que encuentra números primos y además se lo optimizó. ¿Es posible saber en qué medida se optimizó?"
   ]
  },
  {
   "cell_type": "code",
   "execution_count": null,
   "metadata": {},
   "outputs": [],
   "source": [
    "#Se optimizó en la cantidad de ciclos de 406 ciclos a 135 ciclos"
   ]
  },
  {
   "attachments": {},
   "cell_type": "markdown",
   "metadata": {},
   "source": [
    "12) Si la cantidad de números que se evalúa es mayor a treinta, esa optimización crece?"
   ]
  },
  {
   "cell_type": "code",
   "execution_count": 159,
   "metadata": {},
   "outputs": [
    {
     "name": "stdout",
     "output_type": "stream",
     "text": [
      "0 es primo\n",
      "1 es primo\n",
      "2 es primo\n",
      "3 es primo\n",
      "5 es primo\n",
      "7 es primo\n",
      "11 es primo\n",
      "13 es primo\n",
      "17 es primo\n",
      "19 es primo\n",
      "23 es primo\n",
      "29 es primo\n",
      "31 es primo\n",
      "37 es primo\n",
      "41 es primo\n",
      "43 es primo\n",
      "47 es primo\n",
      "53 es primo\n",
      "59 es primo\n",
      "cantidad de ciclos sin break: 1653\n"
     ]
    }
   ],
   "source": [
    "cant_ciclos_sin_break = 0\n",
    "for nro in range(0,60):\n",
    "    es_primo = True #se crea una variable booleana para guardar \"es verdadero mientras se demuestre lo contario\"\n",
    "    for i in range(2,nro):\n",
    "        cant_ciclos_sin_break += 1\n",
    "        if (nro % i == 0):\n",
    "            es_primo = False #si el resto de dividir nro con i es 0, entonces variable booleana se cambia a False\n",
    "            #break #gracias a que rompemos el ciclo, es más óptimo, va hacer menos ciclos for, de 406 ciclos a 135 ciclos\n",
    "    if (es_primo):\n",
    "        print(nro, 'es primo')\n",
    "    #else:\n",
    "        #print(nro, 'no es primo')\n",
    "print('cantidad de ciclos sin break:',str(cant_ciclos_sin_break))"
   ]
  },
  {
   "cell_type": "code",
   "execution_count": 170,
   "metadata": {},
   "outputs": [
    {
     "name": "stdout",
     "output_type": "stream",
     "text": [
      "0 es primo\n",
      "1 es primo\n",
      "2 es primo\n",
      "3 es primo\n",
      "5 es primo\n",
      "7 es primo\n",
      "11 es primo\n",
      "13 es primo\n",
      "17 es primo\n",
      "19 es primo\n",
      "23 es primo\n",
      "29 es primo\n",
      "31 es primo\n",
      "37 es primo\n",
      "41 es primo\n",
      "43 es primo\n",
      "47 es primo\n",
      "53 es primo\n",
      "59 es primo\n",
      "cantidad de ciclos con break: 470\n",
      "Se ha optimizado en un: 28.43 %\n"
     ]
    }
   ],
   "source": [
    "cant_ciclos_con_break= 0\n",
    "for nro in range(0,60):\n",
    "    es_primo = True #se crea una variable booleana para guardar \"es verdadero mientras se demuestre lo contario\"\n",
    "    for i in range(2,nro):\n",
    "        cant_ciclos_con_break += 1\n",
    "        if (nro % i == 0):\n",
    "            es_primo = False #si el resto de dividir nro con i es 0, entonces variable booleana se cambia a False\n",
    "            break #gracias a que rompemos el ciclo, es más óptimo, va hacer menos ciclos for, de 406 ciclos a 135 ciclos\n",
    "    if (es_primo):\n",
    "        print(nro, 'es primo')\n",
    "    #else:\n",
    "        #print(nro, 'no es primo')\n",
    "print('cantidad de ciclos con break:',str(cant_ciclos_con_break))\n",
    "optimización = (cant_ciclos_con_break/cant_ciclos_sin_break)*100\n",
    "print('Se ha optimizado en un:',str(round(optimización,2)),'%')\n"
   ]
  },
  {
   "attachments": {},
   "cell_type": "markdown",
   "metadata": {},
   "source": [
    "Si fuera mas que 30 números, la optimización aumentaría o disminuiría?"
   ]
  },
  {
   "cell_type": "code",
   "execution_count": 194,
   "metadata": {},
   "outputs": [
    {
     "name": "stdout",
     "output_type": "stream",
     "text": [
      "0 es primo\n",
      "1 es primo\n",
      "2 es primo\n",
      "3 es primo\n",
      "5 es primo\n",
      "7 es primo\n",
      "11 es primo\n",
      "13 es primo\n",
      "17 es primo\n",
      "19 es primo\n",
      "23 es primo\n",
      "29 es primo\n",
      "31 es primo\n",
      "37 es primo\n",
      "41 es primo\n",
      "43 es primo\n",
      "47 es primo\n",
      "53 es primo\n",
      "59 es primo\n",
      "61 es primo\n",
      "67 es primo\n",
      "71 es primo\n",
      "73 es primo\n",
      "79 es primo\n",
      "83 es primo\n",
      "89 es primo\n",
      "97 es primo\n",
      "cantidad de ciclos sin break: 4753\n"
     ]
    }
   ],
   "source": [
    "cant_ciclos_sin_break = 0\n",
    "for nro in range(0,100):\n",
    "    es_primo = True #se crea una variable booleana para guardar \"es verdadero mientras se demuestre lo contario\"\n",
    "    for i in range(2,nro):\n",
    "        cant_ciclos_sin_break += 1\n",
    "        if (nro % i == 0):\n",
    "            es_primo = False #si el resto de dividir nro con i es 0, entonces variable booleana se cambia a False\n",
    "            #break #gracias a que rompemos el ciclo, es más óptimo, va hacer menos ciclos for, de 406 ciclos a 135 ciclos\n",
    "    if (es_primo):\n",
    "        print(nro, 'es primo')\n",
    "    #else:\n",
    "        #print(nro, 'no es primo')\n",
    "print('cantidad de ciclos sin break:',str(cant_ciclos_sin_break))"
   ]
  },
  {
   "cell_type": "code",
   "execution_count": 195,
   "metadata": {},
   "outputs": [
    {
     "name": "stdout",
     "output_type": "stream",
     "text": [
      "0 es primo\n",
      "1 es primo\n",
      "2 es primo\n",
      "3 es primo\n",
      "5 es primo\n",
      "7 es primo\n",
      "11 es primo\n",
      "13 es primo\n",
      "17 es primo\n",
      "19 es primo\n",
      "23 es primo\n",
      "29 es primo\n",
      "31 es primo\n",
      "37 es primo\n",
      "41 es primo\n",
      "43 es primo\n",
      "47 es primo\n",
      "53 es primo\n",
      "59 es primo\n",
      "61 es primo\n",
      "67 es primo\n",
      "71 es primo\n",
      "73 es primo\n",
      "79 es primo\n",
      "83 es primo\n",
      "89 es primo\n",
      "97 es primo\n",
      "cantidad de ciclos con break: 1132\n",
      "Se ha optimizado en un: 23.82 %\n"
     ]
    }
   ],
   "source": [
    "cant_ciclos_con_break= 0\n",
    "for nro in range(0,100):\n",
    "    es_primo = True #se crea una variable booleana para guardar \"es verdadero mientras se demuestre lo contario\"\n",
    "    for i in range(2,nro):\n",
    "        cant_ciclos_con_break += 1\n",
    "        if (nro % i == 0):\n",
    "            es_primo = False #si el resto de dividir nro con i es 0, entonces variable booleana se cambia a False\n",
    "            break #gracias a que rompemos el ciclo, es más óptimo, va hacer menos ciclos for, de 406 ciclos a 135 ciclos\n",
    "    if (es_primo):\n",
    "        print(nro, 'es primo')\n",
    "    #else:\n",
    "        #print(nro, 'no es primo')\n",
    "print('cantidad de ciclos con break:',str(cant_ciclos_con_break))\n",
    "optimización = (cant_ciclos_con_break/cant_ciclos_sin_break)*100\n",
    "print('Se ha optimizado en un:',str(round(optimización,2)),'%')\n"
   ]
  },
  {
   "cell_type": "code",
   "execution_count": 196,
   "metadata": {},
   "outputs": [
    {
     "name": "stdout",
     "output_type": "stream",
     "text": [
      "4.579999999999998\n"
     ]
    }
   ],
   "source": [
    "Optimizacion_con_30 = 28.43\n",
    "Optimizacion_con_100 = 23.85\n",
    "print(28.43 - 23.85)\n",
    "#Disminuyó en un 4.58%"
   ]
  },
  {
   "attachments": {},
   "cell_type": "markdown",
   "metadata": {},
   "source": [
    "13) Aplicando continue, armar un ciclo while que solo imprima los valores divisibles por 12, dentro del rango de números de 100 a 300"
   ]
  },
  {
   "cell_type": "code",
   "execution_count": null,
   "metadata": {},
   "outputs": [],
   "source": [
    "#Empezamos pequeño y particular\n",
    "n = 24\n",
    "if n % 12 == 0:\n",
    "    print(n,'es divisible por 12')\n",
    "else:\n",
    "    print(n,'no es divisible por 12')"
   ]
  },
  {
   "cell_type": "code",
   "execution_count": 184,
   "metadata": {},
   "outputs": [
    {
     "name": "stdout",
     "output_type": "stream",
     "text": [
      "12 es divisible por 12\n",
      "24 es divisible por 12\n",
      "36 es divisible por 12\n",
      "48 es divisible por 12\n"
     ]
    }
   ],
   "source": [
    "#Vamos más grande, un intervalo\n",
    "\n",
    "for i in range(10,50):\n",
    "    es_div = False\n",
    "    if i % 12 == 0:\n",
    "        es_div = True\n",
    "        print(i,'es divisible por 12')\n",
    "    else:\n",
    "        continue\n",
    "        #print(i,'no es divisible por 12')"
   ]
  },
  {
   "cell_type": "code",
   "execution_count": 188,
   "metadata": {},
   "outputs": [
    {
     "name": "stdout",
     "output_type": "stream",
     "text": [
      "108 es divisible por 12\n",
      "120 es divisible por 12\n",
      "132 es divisible por 12\n",
      "144 es divisible por 12\n",
      "156 es divisible por 12\n",
      "168 es divisible por 12\n",
      "180 es divisible por 12\n",
      "192 es divisible por 12\n",
      "204 es divisible por 12\n",
      "216 es divisible por 12\n",
      "228 es divisible por 12\n",
      "240 es divisible por 12\n",
      "252 es divisible por 12\n",
      "264 es divisible por 12\n",
      "276 es divisible por 12\n",
      "288 es divisible por 12\n",
      "300 es divisible por 12\n"
     ]
    }
   ],
   "source": [
    "#Vamos por lo exacto, completo y buenas prácticas:\n",
    "i=99\n",
    "while i < 301:\n",
    "    i += 1\n",
    "    #es_div = False\n",
    "    if i % 12 == 0:\n",
    "        #es_div = True\n",
    "        print(i,'es divisible por 12')\n",
    "    else:\n",
    "        continue\n",
    "    "
   ]
  },
  {
   "cell_type": "code",
   "execution_count": 197,
   "metadata": {},
   "outputs": [
    {
     "name": "stdout",
     "output_type": "stream",
     "text": [
      "108 es divisible por 12\n",
      "120 es divisible por 12\n",
      "132 es divisible por 12\n",
      "144 es divisible por 12\n",
      "156 es divisible por 12\n",
      "168 es divisible por 12\n",
      "180 es divisible por 12\n",
      "192 es divisible por 12\n",
      "204 es divisible por 12\n",
      "216 es divisible por 12\n",
      "228 es divisible por 12\n",
      "240 es divisible por 12\n",
      "252 es divisible por 12\n",
      "264 es divisible por 12\n",
      "276 es divisible por 12\n",
      "288 es divisible por 12\n",
      "300 es divisible por 12\n"
     ]
    }
   ],
   "source": [
    "#Vamos por lo exacto, completo y buenas prácticas v2:\n",
    "i=99\n",
    "while i < 301:\n",
    "    i += 1\n",
    "    if i % 12 == 0:\n",
    "        print(i,'es divisible por 12')\n",
    "    else:\n",
    "        continue"
   ]
  },
  {
   "cell_type": "code",
   "execution_count": 199,
   "metadata": {},
   "outputs": [
    {
     "name": "stdout",
     "output_type": "stream",
     "text": [
      "108 es divisible por 12\n",
      "120 es divisible por 12\n",
      "132 es divisible por 12\n",
      "144 es divisible por 12\n",
      "156 es divisible por 12\n",
      "168 es divisible por 12\n",
      "180 es divisible por 12\n",
      "192 es divisible por 12\n",
      "204 es divisible por 12\n",
      "216 es divisible por 12\n",
      "228 es divisible por 12\n",
      "240 es divisible por 12\n",
      "252 es divisible por 12\n",
      "264 es divisible por 12\n",
      "276 es divisible por 12\n",
      "288 es divisible por 12\n",
      "300 es divisible por 12\n"
     ]
    }
   ],
   "source": [
    "#Vamos por lo exacto, completo y buenas prácticas v3:\n",
    "i=99\n",
    "while i < 301:\n",
    "    i += 1\n",
    "    if (i % 12 != 0):\n",
    "        continue\n",
    "    else: \n",
    "        print(i,'es divisible por 12')"
   ]
  },
  {
   "attachments": {},
   "cell_type": "markdown",
   "metadata": {},
   "source": [
    "14) Utilizar la función **input()** que permite hacer ingresos por teclado, para encontrar números primos y dar la opción al usario de buscar el siguiente"
   ]
  },
  {
   "cell_type": "code",
   "execution_count": 202,
   "metadata": {},
   "outputs": [
    {
     "name": "stdout",
     "output_type": "stream",
     "text": [
      "1.3\n",
      "<class 'str'>\n"
     ]
    }
   ],
   "source": [
    "#Teoría: Se abre una ventana para ingresar el valor y le asigna el valor a la variable\n",
    "a = input('Ingrese un valor')\n",
    "print(a)\n",
    "print(type(a)) #No importa que ingreses un número, siempre te va devolver string"
   ]
  },
  {
   "cell_type": "code",
   "execution_count": 204,
   "metadata": {},
   "outputs": [],
   "source": [
    "#básico:\n",
    "a = input('Ingrese un número entero positivo')\n",
    "if int(a) > 0:\n",
    "    pass\n",
    "else:\n",
    "    print('Ingrese un número entero positivo')"
   ]
  },
  {
   "cell_type": "code",
   "execution_count": null,
   "metadata": {},
   "outputs": [],
   "source": [
    "#del anterior para encontrar primos en un intervalo\n",
    "cant_ciclos_sin_break = 0\n",
    "for nro in range(0,100):\n",
    "    es_primo = True #se crea una variable booleana para guardar \"es verdadero mientras se demuestre lo contario\"\n",
    "    for i in range(2,nro):\n",
    "        cant_ciclos_sin_break += 1\n",
    "        if (nro % i == 0):\n",
    "            es_primo = False #si el resto de dividir nro con i es 0, entonces variable booleana se cambia a False\n",
    "            #break #gracias a que rompemos el ciclo, es más óptimo, va hacer menos ciclos for, de 406 ciclos a 135 ciclos\n",
    "    if (es_primo):\n",
    "        print(nro, 'es primo')\n",
    "    #else:\n",
    "        #print(nro, 'no es primo')\n",
    "print('cantidad de ciclos sin break:',str(cant_ciclos_sin_break))"
   ]
  },
  {
   "cell_type": "code",
   "execution_count": 208,
   "metadata": {},
   "outputs": [
    {
     "name": "stdout",
     "output_type": "stream",
     "text": [
      "9 no es número primo\n",
      "cantidad de ciclos sin break: 21\n"
     ]
    }
   ],
   "source": [
    "#Verificar que un número sea primo v1:\n",
    "nro = input('Ingrese un número entero positivo')\n",
    "nro = int(nro)\n",
    "p = nro\n",
    "cant_ciclos_sin_break = 0\n",
    "for nro in range(2,nro):\n",
    "    es_primo = True\n",
    "    for i in range(2,nro):\n",
    "        cant_ciclos_sin_break += 1\n",
    "        nro % i == 0\n",
    "        es_primo = False\n",
    "if es_primo:\n",
    "    print(p,'es número primo')\n",
    "else:\n",
    "    print(p,'no es número primo')\n",
    "print('cantidad de ciclos sin break:',str(cant_ciclos_sin_break))"
   ]
  },
  {
   "cell_type": "code",
   "execution_count": 209,
   "metadata": {},
   "outputs": [
    {
     "name": "stdout",
     "output_type": "stream",
     "text": [
      "9 no es número primo\n",
      "cantidad de ciclos sin break: 6\n"
     ]
    }
   ],
   "source": [
    "#Verificar que un número sea primo v2 (+ óptimo):\n",
    "nro = input('Ingrese un número entero positivo')\n",
    "nro = int(nro)\n",
    "p = nro\n",
    "cant_ciclos_con_break = 0\n",
    "for nro in range(2,nro):\n",
    "    es_primo = True\n",
    "    for i in range(2,nro):\n",
    "        cant_ciclos_con_break += 1\n",
    "        nro % i == 0\n",
    "        es_primo = False\n",
    "        break\n",
    "if es_primo:\n",
    "    print(p,'es número primo')\n",
    "else:\n",
    "    print(p,'no es número primo')\n",
    "print('cantidad de ciclos sin break:',str(cant_ciclos_con_break))"
   ]
  },
  {
   "cell_type": "code",
   "execution_count": null,
   "metadata": {},
   "outputs": [],
   "source": [
    "#Verificar que un número sea primo v2 (+ óptimo) y dar la opción al usario de buscar el siguiente:\n",
    "nro = input('Ingrese un número entero positivo')\n",
    "nro = int(nro)\n",
    "p = nro\n",
    "cant_ciclos_con_break = 0\n",
    "for nro in range(2,nro):\n",
    "    es_primo = True\n",
    "    for i in range(2,nro):\n",
    "        cant_ciclos_con_break += 1\n",
    "        nro % i == 0\n",
    "        es_primo = False\n",
    "        break\n",
    "if es_primo:\n",
    "    print(p,'es número primo')\n",
    "else:\n",
    "    print(p,'no es número primo')\n",
    "print('cantidad de ciclos sin break:',str(cant_ciclos_con_break))"
   ]
  },
  {
   "cell_type": "code",
   "execution_count": 210,
   "metadata": {},
   "outputs": [
    {
     "name": "stdout",
     "output_type": "stream",
     "text": [
      "9 no es primo.\n",
      "5 es primo.\n",
      "8 no es primo.\n",
      "3 es primo.\n",
      "8 no es primo.\n",
      "Programa terminado.\n"
     ]
    }
   ],
   "source": [
    "#CHAT-GPT, lo hizo en segundos v con funciones no tan básicas:\n",
    "def es_primo(num):\n",
    "    if num <= 1:\n",
    "        return False\n",
    "    for i in range(2, num):\n",
    "        if num % i == 0:\n",
    "            return False\n",
    "    return True\n",
    "\n",
    "while True:\n",
    "    num_str = input(\"Ingrese un número (o 'salir' para terminar): \")\n",
    "    if num_str.lower() == \"salir\":\n",
    "        print(\"Programa terminado.\")\n",
    "        break\n",
    "    try:\n",
    "        num = int(num_str)\n",
    "        if es_primo(num):\n",
    "            print(num, \"es primo.\")\n",
    "        else:\n",
    "            print(num, \"no es primo.\")\n",
    "    except ValueError:\n",
    "        print(\"Entrada inválida. Ingrese un número entero o 'salir'.\")"
   ]
  },
  {
   "cell_type": "code",
   "execution_count": 211,
   "metadata": {},
   "outputs": [
    {
     "name": "stdout",
     "output_type": "stream",
     "text": [
      "5 es primo.\n",
      "9 no es primo.\n",
      "Entrada inválida. Ingrese un número entero o 'salir'.\n",
      "Entrada inválida. Ingrese un número entero o 'salir'.\n",
      "Programa terminado.\n"
     ]
    }
   ],
   "source": [
    "#CHAT-GPT, lo hizo en segundos con funciones básicas:\n",
    "while True:\n",
    "    entrada = input(\"Ingrese un número (o 'salir' para terminar): \")\n",
    "    if entrada == \"salir\":\n",
    "        print(\"Programa terminado.\")\n",
    "        break\n",
    "\n",
    "    es_numero = True\n",
    "    for digito in entrada:\n",
    "        if digito not in \"0123456789\":\n",
    "            es_numero = False\n",
    "            break\n",
    "\n",
    "    if es_numero:\n",
    "        num = int(entrada)\n",
    "        es_primo = True\n",
    "        if num <= 1:\n",
    "            es_primo = False\n",
    "        else:\n",
    "            for i in range(2, num):\n",
    "                if num % i == 0:\n",
    "                    es_primo = False\n",
    "                    break\n",
    "        if es_primo:\n",
    "            print(num, \"es primo.\")\n",
    "        else:\n",
    "            print(num, \"no es primo.\")\n",
    "    else:\n",
    "        print(\"Entrada inválida. Ingrese un número entero o 'salir'.\")"
   ]
  },
  {
   "attachments": {},
   "cell_type": "markdown",
   "metadata": {},
   "source": [
    "15) Crear un ciclo while que encuentre dentro del rango de 100 a 300 el primer número divisible por 3 y además múltiplo de 6"
   ]
  },
  {
   "cell_type": "code",
   "execution_count": 216,
   "metadata": {},
   "outputs": [
    {
     "name": "stdout",
     "output_type": "stream",
     "text": [
      "108 es el primer divisible por 3 y 6 a la vez, osea múltiplo de 18\n"
     ]
    }
   ],
   "source": [
    "#Vamos por lo exacto, completo y buenas prácticas v3:\n",
    "i=99\n",
    "while i < 301:\n",
    "    i += 1\n",
    "    if (i % 18 != 0):\n",
    "        continue\n",
    "    else: \n",
    "        print(i,'es el primer divisible por 3 y 6 a la vez, osea múltiplo de 18')\n",
    "        break"
   ]
  }
 ],
 "metadata": {
  "interpreter": {
   "hash": "c85384e4cb51c8b72350f3a8712cc8351fdc3955e32a27f9b60c6242ab125f01"
  },
  "kernelspec": {
   "display_name": "Python 3 (ipykernel)",
   "language": "python",
   "name": "python3"
  },
  "language_info": {
   "codemirror_mode": {
    "name": "ipython",
    "version": 3
   },
   "file_extension": ".py",
   "mimetype": "text/x-python",
   "name": "python",
   "nbconvert_exporter": "python",
   "pygments_lexer": "ipython3",
   "version": "3.11.3"
  }
 },
 "nbformat": 4,
 "nbformat_minor": 4
}
