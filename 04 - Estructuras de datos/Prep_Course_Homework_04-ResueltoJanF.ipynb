{
 "cells": [
  {
   "attachments": {},
   "cell_type": "markdown",
   "metadata": {},
   "source": [
    "## Estructuras de Datos"
   ]
  },
  {
   "attachments": {},
   "cell_type": "markdown",
   "metadata": {},
   "source": [
    "1) Crear una lista que contenga nombres de ciudades del mundo que contenga más de 5 elementos e imprimir por pantalla"
   ]
  },
  {
   "cell_type": "code",
   "execution_count": 22,
   "metadata": {},
   "outputs": [
    {
     "name": "stdout",
     "output_type": "stream",
     "text": [
      "['Bogota', 'Lima', 'New York', 'Madrid', 'Londres', 'Buenos Aires', 'Santiago', 'Washington']\n"
     ]
    }
   ],
   "source": [
    "mi_lista1 = ['Bogota', 'Lima', 'New York', 'Madrid', 'Londres', 'Buenos Aires', 'Santiago', 'Washington']\n",
    "print(mi_lista1)"
   ]
  },
  {
   "attachments": {},
   "cell_type": "markdown",
   "metadata": {},
   "source": [
    "2) Imprimir por pantalla el segundo elemento de la lista"
   ]
  },
  {
   "cell_type": "code",
   "execution_count": 23,
   "metadata": {},
   "outputs": [
    {
     "name": "stdout",
     "output_type": "stream",
     "text": [
      "Lima\n"
     ]
    }
   ],
   "source": [
    "print(mi_lista1[1])"
   ]
  },
  {
   "attachments": {},
   "cell_type": "markdown",
   "metadata": {},
   "source": [
    "3) Imprimir por pantalla del segundo al cuarto elemento"
   ]
  },
  {
   "cell_type": "code",
   "execution_count": 24,
   "metadata": {},
   "outputs": [
    {
     "name": "stdout",
     "output_type": "stream",
     "text": [
      "['Lima', 'New York', 'Madrid']\n"
     ]
    }
   ],
   "source": [
    "#2do elemento = posición - 1 = índice 1 \n",
    "#4to elemento = posición = índice 4, porque siempre excluye el último \n",
    "print(mi_lista1[1:4]) "
   ]
  },
  {
   "attachments": {},
   "cell_type": "markdown",
   "metadata": {},
   "source": [
    "4) Visualizar el tipo de dato de la lista"
   ]
  },
  {
   "cell_type": "code",
   "execution_count": 25,
   "metadata": {},
   "outputs": [
    {
     "name": "stdout",
     "output_type": "stream",
     "text": [
      "<class 'list'>\n"
     ]
    }
   ],
   "source": [
    "print(type(mi_lista1))"
   ]
  },
  {
   "attachments": {},
   "cell_type": "markdown",
   "metadata": {},
   "source": [
    "5) Visualizar todos los elementos de la lista a partir del tercero de manera genérica, es decir, sin explicitar la posición del último elemento"
   ]
  },
  {
   "cell_type": "code",
   "execution_count": 26,
   "metadata": {},
   "outputs": [
    {
     "data": {
      "text/plain": [
       "['New York', 'Madrid', 'Londres', 'Buenos Aires', 'Santiago', 'Washington']"
      ]
     },
     "execution_count": 26,
     "metadata": {},
     "output_type": "execute_result"
    }
   ],
   "source": [
    "mi_lista1[2:]"
   ]
  },
  {
   "attachments": {},
   "cell_type": "markdown",
   "metadata": {},
   "source": [
    "6) Visualizar los primeros 4 elementos de la lista"
   ]
  },
  {
   "cell_type": "code",
   "execution_count": 27,
   "metadata": {},
   "outputs": [
    {
     "data": {
      "text/plain": [
       "['Bogota', 'Lima', 'New York', 'Madrid']"
      ]
     },
     "execution_count": 27,
     "metadata": {},
     "output_type": "execute_result"
    }
   ],
   "source": [
    "mi_lista1[:4] #excluye el final siempre, osea 0,1,2,3 = 4 elementos\n",
    "    "
   ]
  },
  {
   "attachments": {},
   "cell_type": "markdown",
   "metadata": {},
   "source": [
    "7) Agregar una ciudad más a la lista que ya exista y otra que no ¿Arroja algún tipo de error?"
   ]
  },
  {
   "cell_type": "code",
   "execution_count": 28,
   "metadata": {},
   "outputs": [],
   "source": [
    "mi_lista1.append('Lima')"
   ]
  },
  {
   "cell_type": "code",
   "execution_count": 29,
   "metadata": {},
   "outputs": [],
   "source": [
    "mi_lista1.append('Caracas')"
   ]
  },
  {
   "cell_type": "code",
   "execution_count": 30,
   "metadata": {},
   "outputs": [
    {
     "name": "stdout",
     "output_type": "stream",
     "text": [
      "['Bogota', 'Lima', 'New York', 'Madrid', 'Londres', 'Buenos Aires', 'Santiago', 'Washington', 'Lima', 'Caracas']\n"
     ]
    }
   ],
   "source": [
    "print(mi_lista1)"
   ]
  },
  {
   "attachments": {},
   "cell_type": "markdown",
   "metadata": {},
   "source": [
    "8) Agregar otra ciudad, pero en la cuarta posición"
   ]
  },
  {
   "cell_type": "code",
   "execution_count": 31,
   "metadata": {},
   "outputs": [],
   "source": [
    "mi_lista1.insert(3,'Ciudad de México') #con insert agregamos posición y dato a insertar"
   ]
  },
  {
   "cell_type": "code",
   "execution_count": 32,
   "metadata": {},
   "outputs": [
    {
     "name": "stdout",
     "output_type": "stream",
     "text": [
      "['Bogota', 'Lima', 'New York', 'Ciudad de México', 'Madrid', 'Londres', 'Buenos Aires', 'Santiago', 'Washington', 'Lima', 'Caracas']\n"
     ]
    }
   ],
   "source": [
    "print(mi_lista1)"
   ]
  },
  {
   "attachments": {},
   "cell_type": "markdown",
   "metadata": {},
   "source": [
    "9) Concatenar otra lista a la ya creada"
   ]
  },
  {
   "cell_type": "code",
   "execution_count": 33,
   "metadata": {},
   "outputs": [
    {
     "name": "stdout",
     "output_type": "stream",
     "text": [
      "['Bogota', 'Lima', 'New York', 'Ciudad de México', 'Madrid', 'Londres', 'Buenos Aires', 'Santiago', 'Washington', 'Lima', 'Caracas']\n"
     ]
    }
   ],
   "source": [
    "print(mi_lista1)"
   ]
  },
  {
   "cell_type": "code",
   "execution_count": 34,
   "metadata": {},
   "outputs": [],
   "source": [
    "mi_lista2 = ['Miami', 'Caracas', 'Ontario','Pekin']\n"
   ]
  },
  {
   "cell_type": "code",
   "execution_count": 35,
   "metadata": {},
   "outputs": [],
   "source": [
    "mi_lista1.extend(mi_lista2)"
   ]
  },
  {
   "cell_type": "code",
   "execution_count": 36,
   "metadata": {},
   "outputs": [
    {
     "name": "stdout",
     "output_type": "stream",
     "text": [
      "['Bogota', 'Lima', 'New York', 'Ciudad de México', 'Madrid', 'Londres', 'Buenos Aires', 'Santiago', 'Washington', 'Lima', 'Caracas', 'Miami', 'Caracas', 'Ontario', 'Pekin']\n"
     ]
    }
   ],
   "source": [
    "print(mi_lista1)"
   ]
  },
  {
   "attachments": {},
   "cell_type": "markdown",
   "metadata": {},
   "source": [
    "10) Encontrar el índice de la ciudad que en el punto 7 agregamos duplicada. ¿Se nota alguna particularidad?"
   ]
  },
  {
   "cell_type": "code",
   "execution_count": 37,
   "metadata": {},
   "outputs": [
    {
     "data": {
      "text/plain": [
       "1"
      ]
     },
     "execution_count": 37,
     "metadata": {},
     "output_type": "execute_result"
    }
   ],
   "source": [
    "mi_lista1.index('Lima')\n",
    "#Cuando hay elementos repetidos, solo devuelve el índice del primer elemento repetido"
   ]
  },
  {
   "attachments": {},
   "cell_type": "markdown",
   "metadata": {},
   "source": [
    "11) ¿Qué pasa si se busca un elemento que no existe?"
   ]
  },
  {
   "cell_type": "code",
   "execution_count": 38,
   "metadata": {},
   "outputs": [
    {
     "ename": "ValueError",
     "evalue": "'NoHayEsteDato' is not in list",
     "output_type": "error",
     "traceback": [
      "\u001b[1;31m---------------------------------------------------------------------------\u001b[0m",
      "\u001b[1;31mValueError\u001b[0m                                Traceback (most recent call last)",
      "Cell \u001b[1;32mIn[38], line 1\u001b[0m\n\u001b[1;32m----> 1\u001b[0m mi_lista1\u001b[39m.\u001b[39;49mindex(\u001b[39m'\u001b[39;49m\u001b[39mNoHayEsteDato\u001b[39;49m\u001b[39m'\u001b[39;49m)\n\u001b[0;32m      2\u001b[0m \u001b[39m#Menciona que aquel dato no esta en la lista\u001b[39;00m\n",
      "\u001b[1;31mValueError\u001b[0m: 'NoHayEsteDato' is not in list"
     ]
    }
   ],
   "source": [
    "mi_lista1.index('NoHayEsteDato')\n",
    "#Menciona que aquel dato no esta en la lista"
   ]
  },
  {
   "cell_type": "code",
   "execution_count": 39,
   "metadata": {},
   "outputs": [
    {
     "data": {
      "text/plain": [
       "False"
      ]
     },
     "execution_count": 39,
     "metadata": {},
     "output_type": "execute_result"
    }
   ],
   "source": [
    "'NoHayEsteDato' in mi_lista1"
   ]
  },
  {
   "attachments": {},
   "cell_type": "markdown",
   "metadata": {},
   "source": [
    "12) Eliminar un elemento de la lista"
   ]
  },
  {
   "cell_type": "code",
   "execution_count": null,
   "metadata": {},
   "outputs": [],
   "source": [
    "del mi_lista1[3]\n",
    "#Borró Ciudad de México"
   ]
  },
  {
   "cell_type": "code",
   "execution_count": null,
   "metadata": {},
   "outputs": [
    {
     "data": {
      "text/plain": [
       "['Bogota',\n",
       " 'Lima',\n",
       " 'New York',\n",
       " 'Madrid',\n",
       " 'Londres',\n",
       " 'Buenos Aires',\n",
       " 'Santiago',\n",
       " 'Washington',\n",
       " 'Lima',\n",
       " 'Caracas',\n",
       " 'Miami',\n",
       " 'Caracas',\n",
       " 'Ontario',\n",
       " 'Pekin']"
      ]
     },
     "execution_count": 60,
     "metadata": {},
     "output_type": "execute_result"
    }
   ],
   "source": [
    "mi_lista1"
   ]
  },
  {
   "attachments": {},
   "cell_type": "markdown",
   "metadata": {},
   "source": [
    "13) ¿Qué pasa si el elemento a eliminar no existe?"
   ]
  },
  {
   "cell_type": "code",
   "execution_count": null,
   "metadata": {},
   "outputs": [
    {
     "ename": "ValueError",
     "evalue": "list.remove(x): x not in list",
     "output_type": "error",
     "traceback": [
      "\u001b[1;31m---------------------------------------------------------------------------\u001b[0m",
      "\u001b[1;31mValueError\u001b[0m                                Traceback (most recent call last)",
      "Cell \u001b[1;32mIn[62], line 1\u001b[0m\n\u001b[1;32m----> 1\u001b[0m mi_lista1\u001b[39m.\u001b[39;49mremove(\u001b[39m'\u001b[39;49m\u001b[39mNoExisteTalElemento\u001b[39;49m\u001b[39m'\u001b[39;49m)\n\u001b[0;32m      2\u001b[0m \u001b[39m#Borró Ciudad de México\u001b[39;00m\n",
      "\u001b[1;31mValueError\u001b[0m: list.remove(x): x not in list"
     ]
    }
   ],
   "source": [
    "mi_lista1.remove('NoExisteTalElemento')\n",
    "#Nos dice quen o existe tal elemento que intentas borrar"
   ]
  },
  {
   "attachments": {},
   "cell_type": "markdown",
   "metadata": {},
   "source": [
    "14) Extraer el úlimo elemento de la lista, guardarlo en una variable e imprimirlo"
   ]
  },
  {
   "cell_type": "code",
   "execution_count": null,
   "metadata": {},
   "outputs": [
    {
     "name": "stdout",
     "output_type": "stream",
     "text": [
      "Pekin\n"
     ]
    }
   ],
   "source": [
    "ultimo = mi_lista1.pop()\n",
    "print(ultimo)"
   ]
  },
  {
   "cell_type": "code",
   "execution_count": null,
   "metadata": {},
   "outputs": [
    {
     "data": {
      "text/plain": [
       "['Bogota',\n",
       " 'Lima',\n",
       " 'New York',\n",
       " 'Madrid',\n",
       " 'Londres',\n",
       " 'Buenos Aires',\n",
       " 'Santiago',\n",
       " 'Washington',\n",
       " 'Lima',\n",
       " 'Caracas',\n",
       " 'Miami',\n",
       " 'Caracas',\n",
       " 'Ontario']"
      ]
     },
     "execution_count": 64,
     "metadata": {},
     "output_type": "execute_result"
    }
   ],
   "source": [
    "mi_lista1"
   ]
  },
  {
   "attachments": {},
   "cell_type": "markdown",
   "metadata": {},
   "source": [
    "15) Mostrar la lista multiplicada por 4"
   ]
  },
  {
   "cell_type": "code",
   "execution_count": null,
   "metadata": {},
   "outputs": [
    {
     "name": "stdout",
     "output_type": "stream",
     "text": [
      "['Bogota', 'Lima', 'New York', 'Ciudad de México', 'Madrid', 'Londres', 'Buenos Aires', 'Santiago', 'Washington', 'Lima', 'Caracas', 'Miami', 'Caracas', 'Ontario', 'Pekin', 'Bogota', 'Lima', 'New York', 'Ciudad de México', 'Madrid', 'Londres', 'Buenos Aires', 'Santiago', 'Washington', 'Lima', 'Caracas', 'Miami', 'Caracas', 'Ontario', 'Pekin', 'Bogota', 'Lima', 'New York', 'Ciudad de México', 'Madrid', 'Londres', 'Buenos Aires', 'Santiago', 'Washington', 'Lima', 'Caracas', 'Miami', 'Caracas', 'Ontario', 'Pekin', 'Bogota', 'Lima', 'New York', 'Ciudad de México', 'Madrid', 'Londres', 'Buenos Aires', 'Santiago', 'Washington', 'Lima', 'Caracas', 'Miami', 'Caracas', 'Ontario', 'Pekin']\n"
     ]
    }
   ],
   "source": [
    "print(mi_lista1*4)"
   ]
  },
  {
   "attachments": {},
   "cell_type": "markdown",
   "metadata": {},
   "source": [
    "16) Crear una tupla que contenga los números enteros del 1 al 20"
   ]
  },
  {
   "cell_type": "code",
   "execution_count": 40,
   "metadata": {},
   "outputs": [],
   "source": [
    "mi_tupla1 = tuple(range(1,21)) #Usamos tuple para crear una tupla"
   ]
  },
  {
   "cell_type": "code",
   "execution_count": 41,
   "metadata": {},
   "outputs": [
    {
     "name": "stdout",
     "output_type": "stream",
     "text": [
      "(1, 2, 3, 4, 5, 6, 7, 8, 9, 10, 11, 12, 13, 14, 15, 16, 17, 18, 19, 20)\n"
     ]
    }
   ],
   "source": [
    "print(mi_tupla1) #recuerda que el último rango se excluye"
   ]
  },
  {
   "attachments": {},
   "cell_type": "markdown",
   "metadata": {},
   "source": [
    "17) Imprimir desde el índice 10 al 15 de la tupla"
   ]
  },
  {
   "cell_type": "code",
   "execution_count": 42,
   "metadata": {},
   "outputs": [
    {
     "name": "stdout",
     "output_type": "stream",
     "text": [
      "(11, 12, 13, 14, 15, 16)\n"
     ]
    }
   ],
   "source": [
    "print(mi_tupla1[10:16]) #excluye el índice final 16 e imprime índice 15"
   ]
  },
  {
   "attachments": {},
   "cell_type": "markdown",
   "metadata": {},
   "source": [
    "18) Evaluar si los números 20 y 30 están dentro de la tupla"
   ]
  },
  {
   "cell_type": "code",
   "execution_count": 45,
   "metadata": {},
   "outputs": [
    {
     "name": "stdout",
     "output_type": "stream",
     "text": [
      "True\n",
      "False\n"
     ]
    }
   ],
   "source": [
    "print(20 in mi_tupla1)\n",
    "print(30 in mi_tupla1)"
   ]
  },
  {
   "attachments": {},
   "cell_type": "markdown",
   "metadata": {},
   "source": [
    "19) Con la lista creada en el punto 1, validar la existencia del elemento 'París' y si no existe, agregarlo. Utilizar una variable e informar lo sucedido."
   ]
  },
  {
   "cell_type": "code",
   "execution_count": 46,
   "metadata": {},
   "outputs": [
    {
     "name": "stdout",
     "output_type": "stream",
     "text": [
      "False\n"
     ]
    }
   ],
   "source": [
    "\n",
    "print('Paris' in mi_lista1)"
   ]
  },
  {
   "cell_type": "code",
   "execution_count": 47,
   "metadata": {},
   "outputs": [
    {
     "name": "stdout",
     "output_type": "stream",
     "text": [
      "El elemento Paris se agregó correctamente\n"
     ]
    }
   ],
   "source": [
    "elemento = 'Paris'\n",
    "if elemento in mi_lista1:\n",
    "    print('El elemento',elemento,'ya existe')\n",
    "else:\n",
    "    mi_lista1.append('Paris')\n",
    "    print('El elemento',elemento,'se agregó correctamente')"
   ]
  },
  {
   "attachments": {},
   "cell_type": "markdown",
   "metadata": {},
   "source": [
    "20) Mostrar la cantidad de veces que se encuentra un elemento específico dentro de la tupla y de la lista"
   ]
  },
  {
   "cell_type": "code",
   "execution_count": 51,
   "metadata": {},
   "outputs": [
    {
     "name": "stdout",
     "output_type": "stream",
     "text": [
      "2\n",
      "1\n"
     ]
    }
   ],
   "source": [
    "print(mi_lista1.count('Lima'))\n",
    "\n",
    "print(mi_tupla1.count(15))"
   ]
  },
  {
   "attachments": {},
   "cell_type": "markdown",
   "metadata": {},
   "source": [
    "21) Convertir la tupla en una lista"
   ]
  },
  {
   "cell_type": "code",
   "execution_count": 52,
   "metadata": {},
   "outputs": [],
   "source": [
    "mi_tupla2 = tuple(mi_lista1) #Aqui, es al reves, para convertir a lista se usa → list()\n",
    "#tuple() para convertir un elemento en tupla"
   ]
  },
  {
   "cell_type": "code",
   "execution_count": 54,
   "metadata": {},
   "outputs": [
    {
     "name": "stdout",
     "output_type": "stream",
     "text": [
      "('Bogota', 'Lima', 'New York', 'Ciudad de México', 'Madrid', 'Londres', 'Buenos Aires', 'Santiago', 'Washington', 'Lima', 'Caracas', 'Miami', 'Caracas', 'Ontario', 'Pekin', 'Paris')\n"
     ]
    }
   ],
   "source": [
    "print(mi_tupla2)"
   ]
  },
  {
   "attachments": {},
   "cell_type": "markdown",
   "metadata": {},
   "source": [
    "22) Desempaquetar solo los primeros 3 elementos de la tupla en 3 variables"
   ]
  },
  {
   "cell_type": "code",
   "execution_count": 55,
   "metadata": {},
   "outputs": [],
   "source": [
    "#Empaquetado:\n",
    "mi_tupla3 = 'Bogota','Lima','New York'"
   ]
  },
  {
   "cell_type": "code",
   "execution_count": 56,
   "metadata": {},
   "outputs": [],
   "source": [
    "#Desempaquetado:\n",
    "var1, var2, var3 = mi_tupla3"
   ]
  },
  {
   "cell_type": "code",
   "execution_count": 58,
   "metadata": {},
   "outputs": [
    {
     "name": "stdout",
     "output_type": "stream",
     "text": [
      "Var1: Bogota Var2: Lima Var3: New York\n"
     ]
    }
   ],
   "source": [
    "print(\"Var1:\",var1,\"Var2:\",var2,\"Var3:\",var3,)"
   ]
  },
  {
   "attachments": {},
   "cell_type": "markdown",
   "metadata": {},
   "source": [
    "23) Crear un diccionario utilizando la lista creada en el punto 1, asignandole la clave \"ciudad\". Agregar tambien otras claves, como puede ser \"Pais\" y \"Continente\"."
   ]
  },
  {
   "cell_type": "code",
   "execution_count": 63,
   "metadata": {},
   "outputs": [],
   "source": [
    "mi_diccionario1 = {'Ciudad':mi_lista1,'Pais':[],'Continente':[]}"
   ]
  },
  {
   "cell_type": "code",
   "execution_count": 65,
   "metadata": {},
   "outputs": [],
   "source": [
    "mi_diccionario1 = {'Ciudad':mi_lista1,'Pais':['Ecuador','Perú','Colombia','España','Estados Unidos'],'Continente':['América','Asia','África','Europa','Australia']}"
   ]
  },
  {
   "cell_type": "code",
   "execution_count": 66,
   "metadata": {},
   "outputs": [
    {
     "name": "stdout",
     "output_type": "stream",
     "text": [
      "{'Ciudad': ['Bogota', 'Lima', 'New York', 'Ciudad de México', 'Madrid', 'Londres', 'Buenos Aires', 'Santiago', 'Washington', 'Lima', 'Caracas', 'Miami', 'Caracas', 'Ontario', 'Pekin', 'Paris'], 'Pais': ['Ecuador', 'Perú', 'Colombia', 'España', 'Estados Unidos'], 'Continente': ['América', 'Asia', 'África', 'Europa', 'Australia']}\n"
     ]
    }
   ],
   "source": [
    "print(mi_diccionario1)"
   ]
  },
  {
   "cell_type": "code",
   "execution_count": 67,
   "metadata": {},
   "outputs": [
    {
     "data": {
      "text/plain": [
       "{'Ciudad': ['Bogota',\n",
       "  'Lima',\n",
       "  'New York',\n",
       "  'Ciudad de México',\n",
       "  'Madrid',\n",
       "  'Londres',\n",
       "  'Buenos Aires',\n",
       "  'Santiago',\n",
       "  'Washington',\n",
       "  'Lima',\n",
       "  'Caracas',\n",
       "  'Miami',\n",
       "  'Caracas',\n",
       "  'Ontario',\n",
       "  'Pekin',\n",
       "  'Paris'],\n",
       " 'Pais': ['Ecuador', 'Perú', 'Colombia', 'España', 'Estados Unidos'],\n",
       " 'Continente': ['América', 'Asia', 'África', 'Europa', 'Australia']}"
      ]
     },
     "execution_count": 67,
     "metadata": {},
     "output_type": "execute_result"
    }
   ],
   "source": [
    "mi_diccionario1"
   ]
  },
  {
   "attachments": {},
   "cell_type": "markdown",
   "metadata": {},
   "source": [
    "24) Imprimir las claves del diccionario"
   ]
  },
  {
   "cell_type": "code",
   "execution_count": 68,
   "metadata": {},
   "outputs": [
    {
     "data": {
      "text/plain": [
       "dict_keys(['Ciudad', 'Pais', 'Continente'])"
      ]
     },
     "execution_count": 68,
     "metadata": {},
     "output_type": "execute_result"
    }
   ],
   "source": [
    "mi_diccionario1.keys()"
   ]
  },
  {
   "cell_type": "code",
   "execution_count": 69,
   "metadata": {},
   "outputs": [
    {
     "name": "stdout",
     "output_type": "stream",
     "text": [
      "dict_keys(['Ciudad', 'Pais', 'Continente'])\n"
     ]
    }
   ],
   "source": [
    "print(mi_diccionario1.keys())"
   ]
  },
  {
   "attachments": {},
   "cell_type": "markdown",
   "metadata": {},
   "source": [
    "25) Imprimir las ciudades a través de su clave"
   ]
  },
  {
   "cell_type": "code",
   "execution_count": 71,
   "metadata": {},
   "outputs": [
    {
     "data": {
      "text/plain": [
       "['Bogota',\n",
       " 'Lima',\n",
       " 'New York',\n",
       " 'Ciudad de México',\n",
       " 'Madrid',\n",
       " 'Londres',\n",
       " 'Buenos Aires',\n",
       " 'Santiago',\n",
       " 'Washington',\n",
       " 'Lima',\n",
       " 'Caracas',\n",
       " 'Miami',\n",
       " 'Caracas',\n",
       " 'Ontario',\n",
       " 'Pekin',\n",
       " 'Paris']"
      ]
     },
     "execution_count": 71,
     "metadata": {},
     "output_type": "execute_result"
    }
   ],
   "source": [
    "mi_diccionario1['Ciudad']"
   ]
  },
  {
   "cell_type": "code",
   "execution_count": 72,
   "metadata": {},
   "outputs": [
    {
     "name": "stdout",
     "output_type": "stream",
     "text": [
      "['Bogota', 'Lima', 'New York', 'Ciudad de México', 'Madrid', 'Londres', 'Buenos Aires', 'Santiago', 'Washington', 'Lima', 'Caracas', 'Miami', 'Caracas', 'Ontario', 'Pekin', 'Paris']\n"
     ]
    }
   ],
   "source": [
    "print(mi_diccionario1['Ciudad'])"
   ]
  }
 ],
 "metadata": {
  "interpreter": {
   "hash": "c85384e4cb51c8b72350f3a8712cc8351fdc3955e32a27f9b60c6242ab125f01"
  },
  "kernelspec": {
   "display_name": "Python 3 (ipykernel)",
   "language": "python",
   "name": "python3"
  },
  "language_info": {
   "codemirror_mode": {
    "name": "ipython",
    "version": 3
   },
   "file_extension": ".py",
   "mimetype": "text/x-python",
   "name": "python",
   "nbconvert_exporter": "python",
   "pygments_lexer": "ipython3",
   "version": "3.11.3"
  }
 },
 "nbformat": 4,
 "nbformat_minor": 4
}
