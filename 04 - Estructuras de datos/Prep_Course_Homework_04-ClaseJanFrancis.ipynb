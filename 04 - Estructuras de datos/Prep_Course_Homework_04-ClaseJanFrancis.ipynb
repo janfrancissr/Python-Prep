{
 "cells": [
  {
   "attachments": {},
   "cell_type": "markdown",
   "metadata": {},
   "source": [
    "## Estructuras de Datos"
   ]
  },
  {
   "attachments": {},
   "cell_type": "markdown",
   "metadata": {},
   "source": [
    "1. LISTA (ARREGLO O ARRAY)"
   ]
  },
  {
   "cell_type": "code",
   "execution_count": 9,
   "metadata": {},
   "outputs": [],
   "source": [
    "mi_lista = ['rojo','azul','amarillo','verde']"
   ]
  },
  {
   "attachments": {},
   "cell_type": "markdown",
   "metadata": {},
   "source": [
    "1.1. Quiero acceder al lemento azul, del 1 al 2"
   ]
  },
  {
   "cell_type": "code",
   "execution_count": 10,
   "metadata": {},
   "outputs": [
    {
     "data": {
      "text/plain": [
       "['azul', 'amarillo']"
      ]
     },
     "execution_count": 10,
     "metadata": {},
     "output_type": "execute_result"
    }
   ],
   "source": [
    "mi_lista[1]\n",
    "mi_lista[1:3] #3 porque recuerda que el máximo no se incluye, sino el máximo - 1, osea 3 - 1 = 2"
   ]
  },
  {
   "attachments": {},
   "cell_type": "markdown",
   "metadata": {},
   "source": [
    "1.2. Reemplazo.\n",
    "Se recuerdan que podiamos reemplazar una \",\" por un \".\""
   ]
  },
  {
   "cell_type": "code",
   "execution_count": 11,
   "metadata": {},
   "outputs": [
    {
     "name": "stdout",
     "output_type": "stream",
     "text": [
      "10.7\n"
     ]
    }
   ],
   "source": [
    "a = '10,7'\n",
    "a = a.replace(',','.')\n",
    "float(a)\n",
    "print(a)"
   ]
  },
  {
   "cell_type": "code",
   "execution_count": 12,
   "metadata": {},
   "outputs": [
    {
     "name": "stdout",
     "output_type": "stream",
     "text": [
      "8.5\n"
     ]
    }
   ],
   "source": [
    "a = '8,5'\n",
    "a = float(a.replace(',','.'))\n",
    "print(a)"
   ]
  },
  {
   "attachments": {},
   "cell_type": "markdown",
   "metadata": {},
   "source": [
    "Consultar tipo de dato de un elemento en una lista"
   ]
  },
  {
   "cell_type": "code",
   "execution_count": 13,
   "metadata": {},
   "outputs": [
    {
     "data": {
      "text/plain": [
       "float"
      ]
     },
     "execution_count": 13,
     "metadata": {},
     "output_type": "execute_result"
    }
   ],
   "source": [
    "mi_list_v1 = ['rojo',1.1,'amarillo',5]\n",
    "type(mi_list_v1[1])"
   ]
  },
  {
   "attachments": {},
   "cell_type": "markdown",
   "metadata": {},
   "source": [
    "En LISTA se puede agregar elemento al FINAL con list.append(el_agregar) y con list[index] = el_nuevo"
   ]
  },
  {
   "cell_type": "code",
   "execution_count": 14,
   "metadata": {},
   "outputs": [
    {
     "name": "stdout",
     "output_type": "stream",
     "text": [
      "['rojo', 'azul', 'amarillo-co', 'verde']\n",
      "['rojo', 'azul', 'amarillo-co', 'verde', 5, 'Agregado al final']\n",
      "['rojo', 'azul', 'REEMPLAZADO', 'verde', 5, 'Agregado al final']\n"
     ]
    }
   ],
   "source": [
    "mi_lista2 = ['rojo','azul','amarillo-co','verde']\n",
    "print(mi_lista2)\n",
    "mi_lista2.append(5)\n",
    "mi_lista2.append('Agregado al final')\n",
    "print(mi_lista2)\n",
    "\n",
    "\n",
    "mi_lista2[2] = 'REEMPLAZADO'\n",
    "\n",
    "print(mi_lista2)"
   ]
  },
  {
   "cell_type": "code",
   "execution_count": 15,
   "metadata": {},
   "outputs": [
    {
     "name": "stdout",
     "output_type": "stream",
     "text": [
      "['rojo', 'azul', 'REEMPLAZADO']\n"
     ]
    }
   ],
   "source": [
    "print(mi_lista2[:3]) #Imprime siempre uno menos, osea de 0 - 2, desde inicio que es 0 hasta 2"
   ]
  },
  {
   "cell_type": "code",
   "execution_count": 16,
   "metadata": {},
   "outputs": [
    {
     "name": "stdout",
     "output_type": "stream",
     "text": [
      "['REEMPLAZADO', 'verde', 5, 'Agregado al final']\n"
     ]
    }
   ],
   "source": [
    "print(mi_lista2[2:]) #imprime desde 2 hacia el final [como modificamos más abajo, imprime más]"
   ]
  },
  {
   "attachments": {},
   "cell_type": "markdown",
   "metadata": {},
   "source": [
    "En LISTA se puede agregar elemento en UBICACIÓN ESPECIFICA con list.insert(el_agregar)"
   ]
  },
  {
   "cell_type": "code",
   "execution_count": 17,
   "metadata": {},
   "outputs": [
    {
     "data": {
      "text/plain": [
       "['rojo', 'azul', 'yellowcito', 'REEMPLAZADO', 'verde', 5, 'Agregado al final']"
      ]
     },
     "execution_count": 17,
     "metadata": {},
     "output_type": "execute_result"
    }
   ],
   "source": [
    "mi_lista2.insert(2,'yellowcito')\n",
    "mi_lista2"
   ]
  },
  {
   "attachments": {},
   "cell_type": "markdown",
   "metadata": {},
   "source": [
    "Saber el índice"
   ]
  },
  {
   "cell_type": "code",
   "execution_count": 18,
   "metadata": {},
   "outputs": [
    {
     "data": {
      "text/plain": [
       "2"
      ]
     },
     "execution_count": 18,
     "metadata": {},
     "output_type": "execute_result"
    }
   ],
   "source": [
    "mi_lista2.index('yellowcito')"
   ]
  },
  {
   "attachments": {},
   "cell_type": "markdown",
   "metadata": {},
   "source": [
    "Extraer el úlimo elemento de la lista, guardarlo en una variable e imprimirlo con\n",
    "ultimo = nombre_lista.pop()\n",
    "print(ultimo)"
   ]
  },
  {
   "cell_type": "code",
   "execution_count": 19,
   "metadata": {},
   "outputs": [
    {
     "name": "stdout",
     "output_type": "stream",
     "text": [
      "Agregado al final\n"
     ]
    }
   ],
   "source": [
    "ultimo = mi_lista2.pop()\n",
    "print(ultimo)\n",
    "#fue agregado más último"
   ]
  },
  {
   "attachments": {},
   "cell_type": "markdown",
   "metadata": {},
   "source": [
    "Eliminar elemento final de la LISTA con nombre_lista.pop()\n",
    "O extraer el úlimo elemento de la lista, guardarlo en una variable e imprimirlo con\n",
    "var_ultimo = nombre_lista.pop()\n",
    "print(var_ultimo)\n"
   ]
  },
  {
   "cell_type": "code",
   "execution_count": 20,
   "metadata": {},
   "outputs": [
    {
     "name": "stdout",
     "output_type": "stream",
     "text": [
      "5 ha sido eliminado\n"
     ]
    },
    {
     "data": {
      "text/plain": [
       "['rojo', 'azul', 'yellowcito', 'REEMPLAZADO', 'verde']"
      ]
     },
     "execution_count": 20,
     "metadata": {},
     "output_type": "execute_result"
    }
   ],
   "source": [
    "a = mi_lista2.pop()\n",
    "print(a,'ha sido eliminado')\n",
    "\n",
    "mi_lista2"
   ]
  },
  {
   "attachments": {},
   "cell_type": "markdown",
   "metadata": {},
   "source": [
    "Remover elemento de la LISTA por su nombre del elemento con nombre_lista.remove()"
   ]
  },
  {
   "cell_type": "code",
   "execution_count": 21,
   "metadata": {},
   "outputs": [
    {
     "data": {
      "text/plain": [
       "['rojo', 'azul', 'yellowcito', 'verde']"
      ]
     },
     "execution_count": 21,
     "metadata": {},
     "output_type": "execute_result"
    }
   ],
   "source": [
    "mi_lista2.remove('REEMPLAZADO')\n",
    "mi_lista2"
   ]
  },
  {
   "attachments": {},
   "cell_type": "markdown",
   "metadata": {},
   "source": [
    "Se puede concatenar una LISTA con OTRA con nombre_lista.extend(nombre_otralista)\n",
    "Y tambien se puede concatenar individualmente como si fuera append con nombre_lista.extend([])"
   ]
  },
  {
   "cell_type": "code",
   "execution_count": 22,
   "metadata": {},
   "outputs": [
    {
     "data": {
      "text/plain": [
       "['rojo',\n",
       " 'azul',\n",
       " 'yellowcito',\n",
       " 'verde',\n",
       " 'empieza_otralista',\n",
       " 'negro',\n",
       " 8,\n",
       " 'blanco',\n",
       " 'final_otralista']"
      ]
     },
     "execution_count": 22,
     "metadata": {},
     "output_type": "execute_result"
    }
   ],
   "source": [
    "nombre_otralista = ['empieza_otralista','negro',8, 'blanco','final_otralista']\n",
    "mi_lista2.extend(nombre_otralista)\n",
    "\n",
    "mi_lista2"
   ]
  },
  {
   "cell_type": "code",
   "execution_count": 23,
   "metadata": {},
   "outputs": [
    {
     "data": {
      "text/plain": [
       "['rojo',\n",
       " 'azul',\n",
       " 'yellowcito',\n",
       " 'verde',\n",
       " 'empieza_otralista',\n",
       " 'negro',\n",
       " 8,\n",
       " 'blanco',\n",
       " 'final_otralista',\n",
       " 'magenta']"
      ]
     },
     "execution_count": 23,
     "metadata": {},
     "output_type": "execute_result"
    }
   ],
   "source": [
    "mi_lista2.extend(['magenta'])\n",
    "\n",
    "mi_lista2"
   ]
  },
  {
   "attachments": {},
   "cell_type": "markdown",
   "metadata": {},
   "source": [
    "Se puede tener una LISTA DE LISTAS, ya sea con puras listas o también agregando elementos y listas con:\n",
    "nombre_listadelistas = [nombre_lista1 , nombre_lista2 , 'str_el' , int_el]\n",
    "OJO: Aquí no estoy concatenando listas, solo listándolas en una nueva lista"
   ]
  },
  {
   "cell_type": "code",
   "execution_count": 24,
   "metadata": {},
   "outputs": [],
   "source": [
    "lista_de_listas = [mi_lista2, nombre_otralista, 'str_elemento', 100, 'el_repetido', 'el_repetido', True]"
   ]
  },
  {
   "cell_type": "code",
   "execution_count": 25,
   "metadata": {},
   "outputs": [
    {
     "data": {
      "text/plain": [
       "[['rojo',\n",
       "  'azul',\n",
       "  'yellowcito',\n",
       "  'verde',\n",
       "  'empieza_otralista',\n",
       "  'negro',\n",
       "  8,\n",
       "  'blanco',\n",
       "  'final_otralista',\n",
       "  'magenta'],\n",
       " ['empieza_otralista', 'negro', 8, 'blanco', 'final_otralista'],\n",
       " 'str_elemento',\n",
       " 100,\n",
       " 'el_repetido',\n",
       " 'el_repetido',\n",
       " True]"
      ]
     },
     "execution_count": 25,
     "metadata": {},
     "output_type": "execute_result"
    }
   ],
   "source": [
    "lista_de_listas"
   ]
  },
  {
   "cell_type": "code",
   "execution_count": 26,
   "metadata": {},
   "outputs": [
    {
     "data": {
      "text/plain": [
       "['rojo',\n",
       " 'azul',\n",
       " 'yellowcito',\n",
       " 'verde',\n",
       " 'empieza_otralista',\n",
       " 'negro',\n",
       " 8,\n",
       " 'blanco',\n",
       " 'final_otralista',\n",
       " 'magenta']"
      ]
     },
     "execution_count": 26,
     "metadata": {},
     "output_type": "execute_result"
    }
   ],
   "source": [
    "lista_de_listas[0] #accedo al elemento 0 que es una lista"
   ]
  },
  {
   "cell_type": "code",
   "execution_count": 27,
   "metadata": {},
   "outputs": [
    {
     "data": {
      "text/plain": [
       "'yellowcito'"
      ]
     },
     "execution_count": 27,
     "metadata": {},
     "output_type": "execute_result"
    }
   ],
   "source": [
    "lista_de_listas[0][2] #accedo al elemento 0 que es una lista y en específico a su elemento dentro de esa lista"
   ]
  },
  {
   "cell_type": "code",
   "execution_count": 28,
   "metadata": {},
   "outputs": [
    {
     "data": {
      "text/plain": [
       "['rojo', 'azul', 'yellowcito']"
      ]
     },
     "execution_count": 28,
     "metadata": {},
     "output_type": "execute_result"
    }
   ],
   "source": [
    "lista_de_listas[0][0:3] #accedo a intervalo de elementos dentro de esa lista"
   ]
  },
  {
   "cell_type": "code",
   "execution_count": 29,
   "metadata": {},
   "outputs": [
    {
     "data": {
      "text/plain": [
       "['str_elemento', 100]"
      ]
     },
     "execution_count": 29,
     "metadata": {},
     "output_type": "execute_result"
    }
   ],
   "source": [
    "lista_de_listas[2:4] #accedo a los elementos de a LISTA_DE_LISTAS, que no son listas, sino elementos"
   ]
  },
  {
   "cell_type": "code",
   "execution_count": 30,
   "metadata": {},
   "outputs": [
    {
     "data": {
      "text/plain": [
       "4"
      ]
     },
     "execution_count": 30,
     "metadata": {},
     "output_type": "execute_result"
    }
   ],
   "source": [
    "lista_de_listas.index('el_repetido') #cuando hay elementos repetidos, devuelve el índice del primer elemento repetido"
   ]
  },
  {
   "attachments": {},
   "cell_type": "markdown",
   "metadata": {},
   "source": [
    "ORDENAR elementos con nombre_lista.sort()\n",
    "Solo sirve para LISTA con ELEMENTOS, NO lista_de_listas"
   ]
  },
  {
   "cell_type": "code",
   "execution_count": 31,
   "metadata": {},
   "outputs": [],
   "source": [
    "mi_lista4 = [8,7,10,24,1,3]"
   ]
  },
  {
   "cell_type": "code",
   "execution_count": 32,
   "metadata": {},
   "outputs": [],
   "source": [
    "#Ordenar de menor a mayor\n",
    "mi_lista4.sort() "
   ]
  },
  {
   "cell_type": "code",
   "execution_count": 33,
   "metadata": {},
   "outputs": [
    {
     "data": {
      "text/plain": [
       "[1, 3, 7, 8, 10, 24]"
      ]
     },
     "execution_count": 33,
     "metadata": {},
     "output_type": "execute_result"
    }
   ],
   "source": [
    "mi_lista4 #Ahora los elementos de la lista están ordenados de menor a mayor"
   ]
  },
  {
   "cell_type": "code",
   "execution_count": 34,
   "metadata": {},
   "outputs": [],
   "source": [
    "#Ordenar de mayor a mayor\n",
    "mi_lista4.sort(reverse=True) "
   ]
  },
  {
   "cell_type": "code",
   "execution_count": 35,
   "metadata": {},
   "outputs": [
    {
     "data": {
      "text/plain": [
       "[24, 10, 8, 7, 3, 1]"
      ]
     },
     "execution_count": 35,
     "metadata": {},
     "output_type": "execute_result"
    }
   ],
   "source": [
    "mi_lista4"
   ]
  },
  {
   "attachments": {},
   "cell_type": "markdown",
   "metadata": {},
   "source": [
    "2. TUPLAS"
   ]
  },
  {
   "attachments": {},
   "cell_type": "markdown",
   "metadata": {},
   "source": [
    "Las tuplas son inmutables, se puede todo lo demás, pero no se puede modificar sus elementos.\n",
    "Sus elementos se declaran dentro de paréntesis"
   ]
  },
  {
   "cell_type": "code",
   "execution_count": 36,
   "metadata": {},
   "outputs": [
    {
     "data": {
      "text/plain": [
       "[0, 1, 2, 3, 4, 5, 6, 7, 8, 9, 10]"
      ]
     },
     "execution_count": 36,
     "metadata": {},
     "output_type": "execute_result"
    }
   ],
   "source": [
    "#list() es una función que convierte otro tipos de datos en una lista o crea una lista vacía si no hay elementos\n",
    "list(range(0,11)) "
   ]
  },
  {
   "cell_type": "code",
   "execution_count": 37,
   "metadata": {},
   "outputs": [],
   "source": [
    "mi_lista_a = [1,2,3]\n",
    "mi_tupla_a = (6,5,4)"
   ]
  },
  {
   "cell_type": "code",
   "execution_count": 38,
   "metadata": {},
   "outputs": [
    {
     "data": {
      "text/plain": [
       "[1, 2, 3]"
      ]
     },
     "execution_count": 38,
     "metadata": {},
     "output_type": "execute_result"
    }
   ],
   "source": [
    "mi_lista_a"
   ]
  },
  {
   "cell_type": "code",
   "execution_count": 39,
   "metadata": {},
   "outputs": [
    {
     "data": {
      "text/plain": [
       "(6, 5, 4)"
      ]
     },
     "execution_count": 39,
     "metadata": {},
     "output_type": "execute_result"
    }
   ],
   "source": [
    "mi_tupla_a"
   ]
  },
  {
   "cell_type": "code",
   "execution_count": 40,
   "metadata": {},
   "outputs": [],
   "source": [
    "#convertirmos una tupla a lista, y viceversa:\n",
    "mi_lista_de_tupla = list(mi_tupla_a)\n",
    "mi_tupla_de_lista = tuple(mi_lista_a)\n"
   ]
  },
  {
   "cell_type": "code",
   "execution_count": 41,
   "metadata": {},
   "outputs": [
    {
     "data": {
      "text/plain": [
       "[6, 5, 4]"
      ]
     },
     "execution_count": 41,
     "metadata": {},
     "output_type": "execute_result"
    }
   ],
   "source": [
    "mi_lista_de_tupla"
   ]
  },
  {
   "cell_type": "code",
   "execution_count": 42,
   "metadata": {},
   "outputs": [
    {
     "data": {
      "text/plain": [
       "(1, 2, 3)"
      ]
     },
     "execution_count": 42,
     "metadata": {},
     "output_type": "execute_result"
    }
   ],
   "source": [
    "mi_tupla_de_lista"
   ]
  },
  {
   "attachments": {},
   "cell_type": "markdown",
   "metadata": {},
   "source": [
    "Contar elementos, evaluar si un elemento está dentro, aplica tanto pata tuplas como listas"
   ]
  },
  {
   "cell_type": "code",
   "execution_count": 43,
   "metadata": {},
   "outputs": [
    {
     "data": {
      "text/plain": [
       "[6, 5, 4]"
      ]
     },
     "execution_count": 43,
     "metadata": {},
     "output_type": "execute_result"
    }
   ],
   "source": [
    "mi_lista_de_tupla"
   ]
  },
  {
   "cell_type": "code",
   "execution_count": 44,
   "metadata": {},
   "outputs": [
    {
     "data": {
      "text/plain": [
       "('cero', 1, 'dos', 3, 'cuatro', 'dos', 'dos', 7)"
      ]
     },
     "execution_count": 44,
     "metadata": {},
     "output_type": "execute_result"
    }
   ],
   "source": [
    "mi_tupla_b = ('cero',1,'dos',3,'cuatro','dos','dos',7)\n",
    "mi_tupla_b"
   ]
  },
  {
   "cell_type": "code",
   "execution_count": 45,
   "metadata": {},
   "outputs": [
    {
     "data": {
      "text/plain": [
       "1"
      ]
     },
     "execution_count": 45,
     "metadata": {},
     "output_type": "execute_result"
    }
   ],
   "source": [
    "mi_lista_de_tupla.count(5) #cuenta cuantos elementos 5 hay en la lista"
   ]
  },
  {
   "cell_type": "code",
   "execution_count": 46,
   "metadata": {},
   "outputs": [
    {
     "data": {
      "text/plain": [
       "3"
      ]
     },
     "execution_count": 46,
     "metadata": {},
     "output_type": "execute_result"
    }
   ],
   "source": [
    "mi_tupla_b.count('dos') #cuenta cuantos elementos 'dos' hay en la tupla"
   ]
  },
  {
   "cell_type": "code",
   "execution_count": 47,
   "metadata": {},
   "outputs": [
    {
     "data": {
      "text/plain": [
       "True"
      ]
     },
     "execution_count": 47,
     "metadata": {},
     "output_type": "execute_result"
    }
   ],
   "source": [
    "#Saber si un elemento pertenece a la tupla o lista\n",
    "7 in mi_tupla_b\n",
    "#devuelve booleano"
   ]
  },
  {
   "attachments": {},
   "cell_type": "markdown",
   "metadata": {},
   "source": [
    "Se puede empaquetar (listar) y desempaquetar (deslistar)\n",
    "En otras palabras se puede (listar datos en una tupla) y se puede (asignar esos datos a variables) "
   ]
  },
  {
   "cell_type": "code",
   "execution_count": 48,
   "metadata": {},
   "outputs": [],
   "source": [
    "mi_tupla_c = ('Rojo', 1, 'Verde', 2,)\n"
   ]
  },
  {
   "cell_type": "code",
   "execution_count": 49,
   "metadata": {},
   "outputs": [],
   "source": [
    "var1,var2,var3,var4 = mi_tupla_c"
   ]
  },
  {
   "cell_type": "code",
   "execution_count": 50,
   "metadata": {},
   "outputs": [
    {
     "name": "stdout",
     "output_type": "stream",
     "text": [
      "Var1: Rojo Var2: 1 Var3: Verde Var4: 2\n"
     ]
    }
   ],
   "source": [
    "print(\"Var1:\",var1,\"Var2:\",var2,\"Var3:\",var3,\"Var4:\",var4)"
   ]
  },
  {
   "attachments": {},
   "cell_type": "markdown",
   "metadata": {},
   "source": [
    "Otro ejemplo de desempaquetar: los 3 primeros elementos"
   ]
  },
  {
   "cell_type": "code",
   "execution_count": 51,
   "metadata": {},
   "outputs": [],
   "source": [
    "mi_tupla_d = tuple(range(1,21))"
   ]
  },
  {
   "cell_type": "code",
   "execution_count": 52,
   "metadata": {},
   "outputs": [
    {
     "data": {
      "text/plain": [
       "(1, 2, 3, 4, 5, 6, 7, 8, 9, 10, 11, 12, 13, 14, 15, 16, 17, 18, 19, 20)"
      ]
     },
     "execution_count": 52,
     "metadata": {},
     "output_type": "execute_result"
    }
   ],
   "source": [
    "mi_tupla_d"
   ]
  },
  {
   "cell_type": "code",
   "execution_count": 53,
   "metadata": {},
   "outputs": [],
   "source": [
    "v1, v2, v3 = mi_tupla_d[:3]"
   ]
  },
  {
   "cell_type": "code",
   "execution_count": 54,
   "metadata": {},
   "outputs": [
    {
     "name": "stdout",
     "output_type": "stream",
     "text": [
      "1\n",
      "2\n",
      "3\n"
     ]
    }
   ],
   "source": [
    "print(v1)\n",
    "print(v2)\n",
    "print(v3)"
   ]
  },
  {
   "attachments": {},
   "cell_type": "markdown",
   "metadata": {},
   "source": [
    "Cantidad de elementos:"
   ]
  },
  {
   "cell_type": "code",
   "execution_count": 55,
   "metadata": {},
   "outputs": [
    {
     "data": {
      "text/plain": [
       "7"
      ]
     },
     "execution_count": 55,
     "metadata": {},
     "output_type": "execute_result"
    }
   ],
   "source": [
    "len(lista_de_listas)"
   ]
  },
  {
   "cell_type": "code",
   "execution_count": 56,
   "metadata": {},
   "outputs": [
    {
     "data": {
      "text/plain": [
       "8"
      ]
     },
     "execution_count": 56,
     "metadata": {},
     "output_type": "execute_result"
    }
   ],
   "source": [
    "len(mi_tupla_b)"
   ]
  },
  {
   "cell_type": "code",
   "execution_count": 57,
   "metadata": {},
   "outputs": [
    {
     "data": {
      "text/plain": [
       "4"
      ]
     },
     "execution_count": 57,
     "metadata": {},
     "output_type": "execute_result"
    }
   ],
   "source": [
    "len(mi_tupla_c)"
   ]
  },
  {
   "cell_type": "code",
   "execution_count": 58,
   "metadata": {},
   "outputs": [
    {
     "data": {
      "text/plain": [
       "'final_otralista'"
      ]
     },
     "execution_count": 58,
     "metadata": {},
     "output_type": "execute_result"
    }
   ],
   "source": [
    "#Devolver el ELEMENTO FINAL de la lista\n",
    "nombre_otralista[len(nombre_otralista)-1]"
   ]
  },
  {
   "cell_type": "code",
   "execution_count": 59,
   "metadata": {},
   "outputs": [
    {
     "data": {
      "text/plain": [
       "2"
      ]
     },
     "execution_count": 59,
     "metadata": {},
     "output_type": "execute_result"
    }
   ],
   "source": [
    "#Devolver el ELEMENTO FINAL de la tupla\n",
    "mi_tupla_c[len(mi_tupla_c)-1]"
   ]
  },
  {
   "attachments": {},
   "cell_type": "markdown",
   "metadata": {},
   "source": [
    "3. DICCIONARIO"
   ]
  },
  {
   "attachments": {},
   "cell_type": "markdown",
   "metadata": {},
   "source": [
    "Un diccionario es una combinacion de clave - valor, osea clave general y valores de datos, por ejemplo →\n",
    "mi_diccionario = {'Clave1':['valor1',valor2,valor3], Clave2:[4,5,6]}"
   ]
  },
  {
   "cell_type": "code",
   "execution_count": 71,
   "metadata": {},
   "outputs": [],
   "source": [
    "mi_diccionario = {'Frutas':['Manzana','Naranja','Durazno'], 'Verduras':['Tomate','Lechuga','Papa'], 'Especias':['Pimienta','Azafrán','Canela']}"
   ]
  },
  {
   "cell_type": "code",
   "execution_count": 72,
   "metadata": {},
   "outputs": [
    {
     "name": "stdout",
     "output_type": "stream",
     "text": [
      "['Manzana', 'Naranja', 'Durazno']\n"
     ]
    }
   ],
   "source": [
    "print(mi_diccionario['Frutas'])"
   ]
  },
  {
   "cell_type": "code",
   "execution_count": 73,
   "metadata": {},
   "outputs": [],
   "source": [
    "#Puedo cambiar y agregar valores\n",
    "#Cambiar valores ejemplo:\n",
    "mi_diccionario['Frutas'] = ['Pera','Frutilla','Melon']"
   ]
  },
  {
   "cell_type": "code",
   "execution_count": 74,
   "metadata": {},
   "outputs": [
    {
     "data": {
      "text/plain": [
       "{'Frutas': ['Pera', 'Frutilla', 'Melon'],\n",
       " 'Verduras': ['Tomate', 'Lechuga', 'Papa'],\n",
       " 'Especias': ['Pimienta', 'Azafrán', 'Canela']}"
      ]
     },
     "execution_count": 74,
     "metadata": {},
     "output_type": "execute_result"
    }
   ],
   "source": [
    "mi_diccionario"
   ]
  },
  {
   "cell_type": "code",
   "execution_count": 75,
   "metadata": {},
   "outputs": [],
   "source": [
    "#Agregar valores ejemplo:\n",
    "mi_diccionario['Arboles'] = ['Nogal','Roble','Sauce']"
   ]
  },
  {
   "cell_type": "code",
   "execution_count": 76,
   "metadata": {},
   "outputs": [
    {
     "data": {
      "text/plain": [
       "{'Frutas': ['Pera', 'Frutilla', 'Melon'],\n",
       " 'Verduras': ['Tomate', 'Lechuga', 'Papa'],\n",
       " 'Especias': ['Pimienta', 'Azafrán', 'Canela'],\n",
       " 'Arboles': ['Nogal', 'Roble', 'Sauce']}"
      ]
     },
     "execution_count": 76,
     "metadata": {},
     "output_type": "execute_result"
    }
   ],
   "source": [
    "mi_diccionario"
   ]
  },
  {
   "attachments": {},
   "cell_type": "markdown",
   "metadata": {},
   "source": [
    "Se puede eliminar un elemento a través de su clave"
   ]
  },
  {
   "cell_type": "code",
   "execution_count": 77,
   "metadata": {},
   "outputs": [],
   "source": [
    "del mi_diccionario['Frutas']"
   ]
  },
  {
   "cell_type": "code",
   "execution_count": 78,
   "metadata": {},
   "outputs": [
    {
     "data": {
      "text/plain": [
       "{'Verduras': ['Tomate', 'Lechuga', 'Papa'],\n",
       " 'Especias': ['Pimienta', 'Azafrán', 'Canela'],\n",
       " 'Arboles': ['Nogal', 'Roble', 'Sauce']}"
      ]
     },
     "execution_count": 78,
     "metadata": {},
     "output_type": "execute_result"
    }
   ],
   "source": [
    "mi_diccionario"
   ]
  },
  {
   "attachments": {},
   "cell_type": "markdown",
   "metadata": {},
   "source": [
    "Se puede acceder a las claves y a los valores del diccionario"
   ]
  },
  {
   "cell_type": "code",
   "execution_count": 79,
   "metadata": {},
   "outputs": [
    {
     "name": "stdout",
     "output_type": "stream",
     "text": [
      "dict_keys(['Verduras', 'Especias', 'Arboles'])\n"
     ]
    }
   ],
   "source": [
    "#Acceso a las claves o etiquetas del diccionario\n",
    "print(mi_diccionario.keys())"
   ]
  },
  {
   "cell_type": "code",
   "execution_count": 80,
   "metadata": {},
   "outputs": [
    {
     "name": "stdout",
     "output_type": "stream",
     "text": [
      "dict_values([['Tomate', 'Lechuga', 'Papa'], ['Pimienta', 'Azafrán', 'Canela'], ['Nogal', 'Roble', 'Sauce']])\n"
     ]
    }
   ],
   "source": [
    "#Acceso a los valores del diccionario\n",
    "print(mi_diccionario.values())"
   ]
  },
  {
   "attachments": {},
   "cell_type": "markdown",
   "metadata": {},
   "source": [
    "Agregar datos al final desde mi diccionario, hacia Claves o Valores:"
   ]
  },
  {
   "cell_type": "code",
   "execution_count": 81,
   "metadata": {},
   "outputs": [],
   "source": [
    "mi_diccionario['Verduras'].append('Zanahoria')"
   ]
  },
  {
   "cell_type": "code",
   "execution_count": 92,
   "metadata": {},
   "outputs": [
    {
     "data": {
      "text/plain": [
       "{'Verduras': ['Tomate', 'Lechuga', 'Papa', 'Zanahoria'],\n",
       " 'Especias': ['Pimienta', 'Azafrán', 'Canela'],\n",
       " 'Arboles': ['Nogal', 'Roble', 'Sauce']}"
      ]
     },
     "execution_count": 92,
     "metadata": {},
     "output_type": "execute_result"
    }
   ],
   "source": [
    "mi_diccionario"
   ]
  },
  {
   "cell_type": "code",
   "execution_count": 95,
   "metadata": {},
   "outputs": [],
   "source": [
    "mi_diccionario['Estaciones'] = ['Otoño','Verano','Invierno','Primavera']"
   ]
  },
  {
   "cell_type": "code",
   "execution_count": 96,
   "metadata": {},
   "outputs": [
    {
     "data": {
      "text/plain": [
       "{'Verduras': ['Tomate', 'Lechuga', 'Papa', 'Zanahoria'],\n",
       " 'Especias': ['Pimienta', 'Azafrán', 'Canela'],\n",
       " 'Arboles': ['Nogal', 'Roble', 'Sauce'],\n",
       " 'Estaciones': ['Otoño', 'Verano', 'Invierno', 'Primavera']}"
      ]
     },
     "execution_count": 96,
     "metadata": {},
     "output_type": "execute_result"
    }
   ],
   "source": [
    "mi_diccionario"
   ]
  },
  {
   "attachments": {},
   "cell_type": "markdown",
   "metadata": {},
   "source": [
    "Colocar una lista unitaria, lista y tupla dentro de un diccionario y un elemento unitario en una clave"
   ]
  },
  {
   "cell_type": "code",
   "execution_count": 82,
   "metadata": {},
   "outputs": [],
   "source": [
    "#la lista unitaria dentro del diccionario tiene esta estructura → Clave:unico_val\n",
    "#la lista dentro del diccionario tiene esta estructura          → Clave:[val1,val2,val3]\n",
    "#la tupla dentro del diccionario tiene esta estructura          → Clave:(val1,val2,val3)\n",
    "mi_diccionario2 = {'Clave1':'UnElementoDeListaPuedeIrSinCorchetes', 'Clave2':[1,2,3], 3:(11,12,13)}"
   ]
  },
  {
   "cell_type": "code",
   "execution_count": 83,
   "metadata": {},
   "outputs": [
    {
     "data": {
      "text/plain": [
       "{'Clave1': 'UnElementoDeListaPuedeIrSinCorchetes',\n",
       " 'Clave2': [1, 2, 3],\n",
       " 3: (11, 12, 13)}"
      ]
     },
     "execution_count": 83,
     "metadata": {},
     "output_type": "execute_result"
    }
   ],
   "source": [
    "mi_diccionario2"
   ]
  },
  {
   "attachments": {},
   "cell_type": "markdown",
   "metadata": {},
   "source": [
    "Colocar un diccionario dentro de un diccionario:"
   ]
  },
  {
   "cell_type": "code",
   "execution_count": 84,
   "metadata": {},
   "outputs": [],
   "source": [
    "#el diccionario dentro de un diccionario tiene esta estructura  → Clave_Diccionario:{Clave:[val1,val2,val3]}\n",
    "mi_diccionario3 = {'Clave1':'UnElementoDeListaPuedeIrSinCorchetes', 'Diccionario_Clave2':{'Animales':['Gato','Perro','Conejo']}}\n"
   ]
  },
  {
   "cell_type": "code",
   "execution_count": 85,
   "metadata": {},
   "outputs": [
    {
     "data": {
      "text/plain": [
       "{'Clave1': 'UnElementoDeListaPuedeIrSinCorchetes',\n",
       " 'Diccionario_Clave2': {'Animales': ['Gato', 'Perro', 'Conejo']}}"
      ]
     },
     "execution_count": 85,
     "metadata": {},
     "output_type": "execute_result"
    }
   ],
   "source": [
    "mi_diccionario3"
   ]
  },
  {
   "attachments": {},
   "cell_type": "markdown",
   "metadata": {},
   "source": [
    "Imprimir las claves del diccionario"
   ]
  },
  {
   "cell_type": "code",
   "execution_count": 86,
   "metadata": {},
   "outputs": [
    {
     "data": {
      "text/plain": [
       "dict_keys(['Clave1', 'Diccionario_Clave2'])"
      ]
     },
     "execution_count": 86,
     "metadata": {},
     "output_type": "execute_result"
    }
   ],
   "source": [
    "mi_diccionario3.keys()"
   ]
  },
  {
   "cell_type": "code",
   "execution_count": 87,
   "metadata": {},
   "outputs": [
    {
     "name": "stdout",
     "output_type": "stream",
     "text": [
      "dict_keys(['Clave1', 'Diccionario_Clave2'])\n"
     ]
    }
   ],
   "source": [
    "print(mi_diccionario3.keys())"
   ]
  },
  {
   "attachments": {},
   "cell_type": "markdown",
   "metadata": {},
   "source": [
    "Imprimir los valores del diccionario"
   ]
  },
  {
   "cell_type": "code",
   "execution_count": 88,
   "metadata": {},
   "outputs": [
    {
     "data": {
      "text/plain": [
       "dict_values(['UnElementoDeListaPuedeIrSinCorchetes', {'Animales': ['Gato', 'Perro', 'Conejo']}])"
      ]
     },
     "execution_count": 88,
     "metadata": {},
     "output_type": "execute_result"
    }
   ],
   "source": [
    "mi_diccionario3.values()"
   ]
  },
  {
   "cell_type": "code",
   "execution_count": 89,
   "metadata": {},
   "outputs": [
    {
     "name": "stdout",
     "output_type": "stream",
     "text": [
      "dict_values(['UnElementoDeListaPuedeIrSinCorchetes', {'Animales': ['Gato', 'Perro', 'Conejo']}])\n"
     ]
    }
   ],
   "source": [
    "print(mi_diccionario3.values())"
   ]
  },
  {
   "attachments": {},
   "cell_type": "markdown",
   "metadata": {},
   "source": [
    "Imprimir la longitud del diccionario"
   ]
  },
  {
   "cell_type": "code",
   "execution_count": 90,
   "metadata": {},
   "outputs": [
    {
     "data": {
      "text/plain": [
       "2"
      ]
     },
     "execution_count": 90,
     "metadata": {},
     "output_type": "execute_result"
    }
   ],
   "source": [
    "len(mi_diccionario3)"
   ]
  }
 ],
 "metadata": {
  "interpreter": {
   "hash": "c85384e4cb51c8b72350f3a8712cc8351fdc3955e32a27f9b60c6242ab125f01"
  },
  "kernelspec": {
   "display_name": "Python 3 (ipykernel)",
   "language": "python",
   "name": "python3"
  },
  "language_info": {
   "codemirror_mode": {
    "name": "ipython",
    "version": 3
   },
   "file_extension": ".py",
   "mimetype": "text/x-python",
   "name": "python",
   "nbconvert_exporter": "python",
   "pygments_lexer": "ipython3",
   "version": "3.11.3"
  }
 },
 "nbformat": 4,
 "nbformat_minor": 4
}
