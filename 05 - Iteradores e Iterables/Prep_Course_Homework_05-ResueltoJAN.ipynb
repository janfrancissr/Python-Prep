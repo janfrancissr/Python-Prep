{
 "cells": [
  {
   "attachments": {},
   "cell_type": "markdown",
   "metadata": {},
   "source": [
    "## Iteradores e iterables"
   ]
  },
  {
   "attachments": {},
   "cell_type": "markdown",
   "metadata": {},
   "source": [
    "1) A partir de una lista vacía, utilizar un ciclo while para cargar allí números negativos del -15 al -1"
   ]
  },
  {
   "cell_type": "code",
   "execution_count": 3,
   "metadata": {},
   "outputs": [
    {
     "name": "stdout",
     "output_type": "stream",
     "text": [
      "[-15, -14, -13, -12, -11, -10, -9, -8, -7, -6, -5, -4, -3, -2, -1]\n"
     ]
    }
   ],
   "source": [
    "lista1 = []\n",
    "a=-16\n",
    "while a < -1:\n",
    "    a += 1\n",
    "    lista1.append(a)\n",
    "print(lista1)\n"
   ]
  },
  {
   "cell_type": "code",
   "execution_count": 4,
   "metadata": {},
   "outputs": [
    {
     "name": "stdout",
     "output_type": "stream",
     "text": [
      "[-15, -14, -13, -12, -11, -10, -9, -8, -7, -6, -5, -4, -3, -2, -1]\n"
     ]
    }
   ],
   "source": [
    "#o tambien el append primero:\n",
    "lista1 = []\n",
    "a=-15\n",
    "while a < 0:\n",
    "    lista1.append(a)\n",
    "    a += 1\n",
    "print(lista1)"
   ]
  },
  {
   "attachments": {},
   "cell_type": "markdown",
   "metadata": {},
   "source": [
    "2) ¿Con un ciclo while sería posible recorrer la lista para imprimir sólo los números pares?"
   ]
  },
  {
   "cell_type": "code",
   "execution_count": 5,
   "metadata": {},
   "outputs": [
    {
     "name": "stdout",
     "output_type": "stream",
     "text": [
      "-14\n",
      "-12\n",
      "-10\n",
      "-8\n",
      "-6\n",
      "-4\n",
      "-2\n"
     ]
    }
   ],
   "source": [
    "#solo imprimiendo los elementos\n",
    "b = 0\n",
    "while b < len(lista1):\n",
    "    if lista1[b] % 2 == 0:\n",
    "        print(lista1[b])\n",
    "    b += 1"
   ]
  },
  {
   "cell_type": "code",
   "execution_count": 6,
   "metadata": {},
   "outputs": [
    {
     "name": "stdout",
     "output_type": "stream",
     "text": [
      "[-14, -12, -10, -8, -6, -4, -2]\n"
     ]
    }
   ],
   "source": [
    "#creando y añadiendo determinados elementos de la lista1 a otra lista\n",
    "b = 0\n",
    "lista2 = []\n",
    "while b < len(lista1):\n",
    "    if lista1[b] % 2 == 0:\n",
    "        lista2.append(lista1[b])\n",
    "    b += 1\n",
    "print(lista2)\n"
   ]
  },
  {
   "attachments": {},
   "cell_type": "markdown",
   "metadata": {},
   "source": [
    "3) Resolver el punto anterior sin utilizar un ciclo while"
   ]
  },
  {
   "cell_type": "code",
   "execution_count": 7,
   "metadata": {},
   "outputs": [],
   "source": [
    "lista1 = [-15, -14, -13, -12, -11, -10, -9, -8, -7, -6, -5, -4, -3, -2, -1]"
   ]
  },
  {
   "cell_type": "code",
   "execution_count": 8,
   "metadata": {},
   "outputs": [
    {
     "name": "stdout",
     "output_type": "stream",
     "text": [
      "-14\n",
      "-12\n",
      "-10\n",
      "-8\n",
      "-6\n",
      "-4\n",
      "-2\n"
     ]
    }
   ],
   "source": [
    "#mi idea\n",
    "marcapaginas1 = iter(lista1)\n",
    "for _ in lista1:\n",
    "    elemento = next(marcapaginas1)\n",
    "    if elemento % 2 == 0:\n",
    "        print(elemento)"
   ]
  },
  {
   "cell_type": "code",
   "execution_count": 9,
   "metadata": {},
   "outputs": [
    {
     "name": "stdout",
     "output_type": "stream",
     "text": [
      "-14\n",
      "-12\n",
      "-10\n",
      "-8\n",
      "-6\n",
      "-4\n",
      "-2\n"
     ]
    }
   ],
   "source": [
    "#Pero más fácil y simple para recorrer elementos de una lista es con \n",
    "#for elemento in lista:\n",
    "for elemento in lista1:\n",
    "    if elemento % 2 == 0:\n",
    "        print(elemento)\n"
   ]
  },
  {
   "attachments": {},
   "cell_type": "markdown",
   "metadata": {},
   "source": [
    "4) Utilizar el iterable para recorrer sólo los primeros 3 elementos"
   ]
  },
  {
   "cell_type": "code",
   "execution_count": 10,
   "metadata": {},
   "outputs": [
    {
     "name": "stdout",
     "output_type": "stream",
     "text": [
      "-15\n",
      "-14\n",
      "-13\n"
     ]
    }
   ],
   "source": [
    "c = 0\n",
    "while c < 3:\n",
    "    print(lista1[c])\n",
    "    c += 1"
   ]
  },
  {
   "cell_type": "code",
   "execution_count": 11,
   "metadata": {},
   "outputs": [
    {
     "name": "stdout",
     "output_type": "stream",
     "text": [
      "-15\n",
      "-14\n",
      "-13\n"
     ]
    }
   ],
   "source": [
    "#Más fácil → for elemento in clase_iterable[:n]\n",
    "for elemento in lista1[:3]:\n",
    "    print(elemento)"
   ]
  },
  {
   "attachments": {},
   "cell_type": "markdown",
   "metadata": {},
   "source": [
    "5) Utilizar la función **enumerate** para obtener dentro del iterable, tambien el índice al que corresponde el elemento"
   ]
  },
  {
   "cell_type": "code",
   "execution_count": 12,
   "metadata": {},
   "outputs": [
    {
     "name": "stdout",
     "output_type": "stream",
     "text": [
      "0 -15\n",
      "1 -14\n",
      "2 -13\n",
      "3 -12\n",
      "4 -11\n",
      "5 -10\n",
      "6 -9\n",
      "7 -8\n",
      "8 -7\n",
      "9 -6\n",
      "10 -5\n",
      "11 -4\n",
      "12 -3\n",
      "13 -2\n",
      "14 -1\n"
     ]
    }
   ],
   "source": [
    "for i, e in enumerate(lista1):\n",
    "    print(i, e)"
   ]
  },
  {
   "attachments": {},
   "cell_type": "markdown",
   "metadata": {},
   "source": [
    "6) Dada la siguiente lista de números enteros entre 1 y 20, crear un ciclo donde se completen los valores faltantes: lista = [1,2,5,7,8,10,13,14,15,17,20]"
   ]
  },
  {
   "cell_type": "code",
   "execution_count": 13,
   "metadata": {},
   "outputs": [
    {
     "name": "stdout",
     "output_type": "stream",
     "text": [
      "<class 'int'> 1\n",
      "<class 'int'> 2\n",
      "<class 'int'> 5\n",
      "<class 'int'> 7\n",
      "<class 'int'> 8\n",
      "<class 'int'> 10\n",
      "<class 'int'> 13\n",
      "<class 'int'> 14\n",
      "<class 'int'> 15\n",
      "<class 'int'> 17\n",
      "<class 'int'> 20\n"
     ]
    }
   ],
   "source": [
    "#pre análisis\n",
    "lista3 = [1,2,5,7,8,10,13,14,15,17,20]\n",
    "for e in lista3:\n",
    "    print(type(e),e)"
   ]
  },
  {
   "cell_type": "code",
   "execution_count": 39,
   "metadata": {},
   "outputs": [
    {
     "name": "stdout",
     "output_type": "stream",
     "text": [
      "[1, 2, 3, 4, 5, 6, 7, 8, 9, 10, 11, 12, 13, 14, 15, 16, 17, 18, 19, 20]\n"
     ]
    }
   ],
   "source": [
    "#Lo hice, pude hacerlo!\n",
    "lista4 = [1,2,5,7,8,10,13,14,15,17,20]\n",
    "\n",
    "a = 1\n",
    "i = 0\n",
    "while a <= len(lista4): #Sin el menor igual faltaba el 18 y 19, porque llega a → 18 < 18, termina el ciclo y junta más el 20\n",
    "    if lista4[i] == a:\n",
    "        pass\n",
    "    else:\n",
    "        lista4.insert(i,a)\n",
    "    i += 1\n",
    "    a += 1\n",
    "print(lista4)"
   ]
  },
  {
   "cell_type": "code",
   "execution_count": 34,
   "metadata": {},
   "outputs": [
    {
     "name": "stdout",
     "output_type": "stream",
     "text": [
      "[1, 2, 3, 4, 5, 6, 7, 8, 9, 10, 11, 12, 13, 14, 15, 16, 17, 18, 19, 20]\n"
     ]
    }
   ],
   "source": [
    "#Del resuelto, es casi igual, pero más simple y con not:\n",
    "lista5 = [1,2,5,7,8,10,13,14,15,17,20]\n",
    "\n",
    "n = 1\n",
    "while(n <= 20):\n",
    "    if (not(n in lista5)): #Cuando me dicen completar elementos me acuerdo del → not() e lista.insert((n-1),n)\n",
    "        lista5.insert((n-1), n)\n",
    "    n += 1\n",
    "print(lista5)"
   ]
  },
  {
   "cell_type": "code",
   "execution_count": 40,
   "metadata": {},
   "outputs": [
    {
     "name": "stdout",
     "output_type": "stream",
     "text": [
      "[1, 2, 3, 4, 5, 6, 7, 8, 9, 10, 11, 12, 13, 14, 15, 16, 17, 20]\n"
     ]
    }
   ],
   "source": [
    "lista5 = [1,2,5,7,8,10,13,14,15,17,20]\n",
    "\n",
    "n = 1\n",
    "while(n <= len(lista5)):\n",
    "    if (not(n in lista5)):\n",
    "        lista5.insert((n-1), n)\n",
    "    n += 1\n",
    "print(lista5)"
   ]
  },
  {
   "attachments": {},
   "cell_type": "markdown",
   "metadata": {},
   "source": [
    "7) La sucesión de Fibonacci es un listado de números que sigue la fórmula: <br>\n",
    "n<sub>0</sub> = 0<br>\n",
    "n<sub>1</sub> = 1<br>\n",
    "n<sub>i</sub> = n<sub>i-1</sub> + n<sub>i-2</sub><br>\n",
    "Crear una lista con los primeros treinta números de la sucesión.<br>"
   ]
  },
  {
   "cell_type": "code",
   "execution_count": 9,
   "metadata": {},
   "outputs": [
    {
     "name": "stdout",
     "output_type": "stream",
     "text": [
      "[0, 1, 1, 2, 3, 5, 8, 13, 21, 34, 55, 89, 144, 233, 377, 610, 987, 1597, 2584, 4181, 6765, 10946, 17711, 28657, 46368, 75025, 121393, 196418, 317811, 514229]\n"
     ]
    }
   ],
   "source": [
    "lista6 = [0,1]\n",
    "\n",
    "n = 0\n",
    "while n < 30:\n",
    "    if n < 2:\n",
    "        pass\n",
    "    else:\n",
    "        lista6.insert(n,lista6[n-2]+lista6[n-1])\n",
    "    n += 1\n",
    "print(lista6)"
   ]
  },
  {
   "cell_type": "code",
   "execution_count": 10,
   "metadata": {},
   "outputs": [
    {
     "data": {
      "text/plain": [
       "int"
      ]
     },
     "execution_count": 10,
     "metadata": {},
     "output_type": "execute_result"
    }
   ],
   "source": [
    "type(lista6[n-2])\n",
    "#consultado los tipos de elementos y corriendo en escrito los resultados me doy cuenta como es"
   ]
  },
  {
   "cell_type": "code",
   "execution_count": 11,
   "metadata": {},
   "outputs": [
    {
     "data": {
      "text/plain": [
       "30"
      ]
     },
     "execution_count": 11,
     "metadata": {},
     "output_type": "execute_result"
    }
   ],
   "source": [
    "len(lista6)\n",
    "#verifico que hay 30 elementos"
   ]
  },
  {
   "attachments": {},
   "cell_type": "markdown",
   "metadata": {},
   "source": [
    "Con append() salia más rápido y corto:"
   ]
  },
  {
   "cell_type": "code",
   "execution_count": 13,
   "metadata": {},
   "outputs": [
    {
     "name": "stdout",
     "output_type": "stream",
     "text": [
      "[0, 1, 1, 2, 3, 5, 8, 13, 21, 34, 55, 89, 144, 233, 377, 610, 987, 1597, 2584, 4181, 6765, 10946, 17711, 28657, 46368, 75025, 121393, 196418, 317811, 514229]\n"
     ]
    },
    {
     "data": {
      "text/plain": [
       "30"
      ]
     },
     "execution_count": 13,
     "metadata": {},
     "output_type": "execute_result"
    }
   ],
   "source": [
    "lista_fibonacci = [0,1]\n",
    "\n",
    "n = 2\n",
    "while n < 30:\n",
    "    lista_fibonacci.append(lista_fibonacci[n-2]+lista_fibonacci[n-1])\n",
    "    n += 1\n",
    "print(lista_fibonacci)\n",
    "len(lista_fibonacci)"
   ]
  },
  {
   "attachments": {},
   "cell_type": "markdown",
   "metadata": {},
   "source": [
    "8) Realizar la suma de todos elementos de la lista del punto anterior"
   ]
  },
  {
   "cell_type": "code",
   "execution_count": 14,
   "metadata": {},
   "outputs": [
    {
     "name": "stdout",
     "output_type": "stream",
     "text": [
      "1346268\n"
     ]
    }
   ],
   "source": [
    "suma = 0\n",
    "for elemento in lista_fibonacci:\n",
    "    suma = suma + elemento\n",
    "print(suma)"
   ]
  },
  {
   "attachments": {},
   "cell_type": "markdown",
   "metadata": {},
   "source": [
    "Más fácil y rápido, función sum()"
   ]
  },
  {
   "cell_type": "code",
   "execution_count": 15,
   "metadata": {},
   "outputs": [
    {
     "data": {
      "text/plain": [
       "1346268"
      ]
     },
     "execution_count": 15,
     "metadata": {},
     "output_type": "execute_result"
    }
   ],
   "source": [
    "sum(lista_fibonacci)"
   ]
  },
  {
   "attachments": {},
   "cell_type": "markdown",
   "metadata": {},
   "source": [
    "9) La proporción aurea se expresa con una proporción matemática que nace el número irracional Phi= 1,618… que los griegos llamaron número áureo. El cuál se puede aproximar con la sucesión de Fibonacci. Con la lista del ejercicio anterior, imprimir el cociente de los últimos 5 pares de dos números contiguos:<br>\n",
    "Donde i es la cantidad total de elementos<br>\n",
    "n<sub>i-1</sub> / n<sub>i</sub><br>\n",
    "n<sub>i-2</sub> / n<sub>i-1</sub><br>\n",
    "n<sub>i-3</sub> / n<sub>i-2</sub><br>\n",
    "n<sub>i-4</sub> / n<sub>i-3</sub><br>\n",
    "n<sub>i-5</sub> / n<sub>i-4</sub><br>\n",
    "nota: segun la resolución, la división es al reves, para que te el numero aureo Phi = 1,618...\n",
    " "
   ]
  },
  {
   "cell_type": "code",
   "execution_count": 56,
   "metadata": {},
   "outputs": [
    {
     "name": "stdout",
     "output_type": "stream",
     "text": [
      "25\n"
     ]
    }
   ],
   "source": [
    "#Declarando variable n que me permite ir al indice e indices de los 5 ultimos elementos\n",
    "n = len(lista_fibonacci)-5\n",
    "print(n)"
   ]
  },
  {
   "cell_type": "code",
   "execution_count": 55,
   "metadata": {},
   "outputs": [
    {
     "name": "stdout",
     "output_type": "stream",
     "text": [
      "1.6180339886704431\n",
      "1.6180339887802426\n",
      "1.618033988738303\n",
      "1.6180339887543225\n"
     ]
    }
   ],
   "source": [
    "while n < len(lista_fibonacci)-1:\n",
    "    print(float(lista_fibonacci[n+1])/float(lista_fibonacci[n]))\n",
    "    n += 1\n"
   ]
  },
  {
   "cell_type": "code",
   "execution_count": 57,
   "metadata": {},
   "outputs": [
    {
     "name": "stdout",
     "output_type": "stream",
     "text": [
      "26 / 25 :\n",
      "1.6180339886704431\n",
      "27 / 26 :\n",
      "1.6180339887802426\n",
      "28 / 27 :\n",
      "1.618033988738303\n",
      "29 / 28 :\n",
      "1.6180339887543225\n"
     ]
    }
   ],
   "source": [
    "#Agregando que división hace, tener en cuenta que para 30 elementos, el índica máximo es 29, y el mínimo es 0\n",
    "\n",
    "while n < len(lista_fibonacci)-1:\n",
    "    print(n+1,\"/\",n,\":\")\n",
    "    print(float(lista_fibonacci[n+1])/float(lista_fibonacci[n]))\n",
    "    n += 1"
   ]
  },
  {
   "attachments": {},
   "cell_type": "markdown",
   "metadata": {},
   "source": [
    "10) A partir de la variable cadena ya dada, mostrar en qué posiciones aparece la letra \"n\"<br>\n",
    "cadena = 'Hola Mundo. Esto es una practica del lenguaje de programación Python'"
   ]
  },
  {
   "cell_type": "code",
   "execution_count": 71,
   "metadata": {},
   "outputs": [
    {
     "name": "stdout",
     "output_type": "stream",
     "text": [
      "En la posición 7 hay una n\n",
      "En la posición 21 hay una n\n",
      "En la posición 39 hay una n\n",
      "En la posición 60 hay una n\n",
      "En la posición 67 hay una n\n"
     ]
    }
   ],
   "source": [
    "cadena = 'Hola Mundo. Esto es una practica del lenguaje de programación Python'\n",
    "\n",
    "for i, e in enumerate(cadena):\n",
    "    if e == \"n\":\n",
    "        print(\"En la posición\",i,\"hay una\",e)\n",
    "    else:\n",
    "        pass"
   ]
  },
  {
   "attachments": {},
   "cell_type": "markdown",
   "metadata": {},
   "source": [
    "11) Crear un diccionario e imprimir sus claves utilizando un iterador"
   ]
  },
  {
   "cell_type": "code",
   "execution_count": 76,
   "metadata": {},
   "outputs": [
    {
     "name": "stdout",
     "output_type": "stream",
     "text": [
      "En la posición 0 la Clave se llama: Clave1\n",
      "En la posición 1 la Clave se llama: Clave2\n",
      "En la posición 2 la Clave se llama: 3\n"
     ]
    }
   ],
   "source": [
    "mi_diccionario = {'Clave1':'UnElementoDeListaPuedeIrSinCorchetes', 'Clave2':[1,2,3], 3:(11,12,13)}\n",
    "\n",
    "for i,e in enumerate(mi_diccionario):\n",
    "    print(\"En la posición\",i,\"la Clave se llama:\",e)"
   ]
  },
  {
   "attachments": {},
   "cell_type": "markdown",
   "metadata": {},
   "source": [
    "Más simple, sin necesidad de obtener el índice, solo las claves:"
   ]
  },
  {
   "cell_type": "code",
   "execution_count": 77,
   "metadata": {},
   "outputs": [
    {
     "name": "stdout",
     "output_type": "stream",
     "text": [
      "Clave1\n",
      "Clave2\n",
      "3\n"
     ]
    }
   ],
   "source": [
    "mi_diccionario = {'Clave1':'UnElementoDeListaPuedeIrSinCorchetes', 'Clave2':[1,2,3], 3:(11,12,13)}\n",
    "\n",
    "for e in mi_diccionario:\n",
    "    print(e)\n",
    "#Conclusión: los elementos de un diccionario son sus Claves"
   ]
  },
  {
   "attachments": {},
   "cell_type": "markdown",
   "metadata": {},
   "source": [
    "12) Convertir en una lista la variable \"cadena\" del punto 10 y luego recorrerla con un iterador "
   ]
  },
  {
   "cell_type": "code",
   "execution_count": 80,
   "metadata": {},
   "outputs": [
    {
     "name": "stdout",
     "output_type": "stream",
     "text": [
      "H\n",
      "o\n",
      "l\n",
      "a\n",
      " \n",
      "M\n",
      "u\n",
      "n\n",
      "d\n",
      "o\n",
      ".\n",
      " \n",
      "E\n",
      "s\n",
      "t\n",
      "o\n",
      " \n",
      "e\n",
      "s\n",
      " \n",
      "u\n",
      "n\n",
      "a\n",
      " \n",
      "p\n",
      "r\n",
      "a\n",
      "c\n",
      "t\n",
      "i\n",
      "c\n",
      "a\n",
      " \n",
      "d\n",
      "e\n",
      "l\n",
      " \n",
      "l\n",
      "e\n",
      "n\n",
      "g\n",
      "u\n",
      "a\n",
      "j\n",
      "e\n",
      " \n",
      "d\n",
      "e\n",
      " \n",
      "p\n",
      "r\n",
      "o\n",
      "g\n",
      "r\n",
      "a\n",
      "m\n",
      "a\n",
      "c\n",
      "i\n",
      "ó\n",
      "n\n",
      " \n",
      "P\n",
      "y\n",
      "t\n",
      "h\n",
      "o\n",
      "n\n"
     ]
    }
   ],
   "source": [
    "lista7 = list(cadena)\n",
    "for e in lista7:\n",
    "    print(e)"
   ]
  },
  {
   "attachments": {},
   "cell_type": "markdown",
   "metadata": {},
   "source": [
    "13) Crear dos listas y unirlas en una tupla utilizando la función zip"
   ]
  },
  {
   "cell_type": "code",
   "execution_count": 82,
   "metadata": {},
   "outputs": [
    {
     "name": "stdout",
     "output_type": "stream",
     "text": [
      "[('Juan', 'Meza'), ('Lucho', 'Hurtado'), ('Kevin', 'Ortega'), ('Pepe', 'Contreras')]\n"
     ]
    }
   ],
   "source": [
    "lista8 = ['Juan','Lucho','Kevin','Pepe']\n",
    "lista9 = ['Meza','Hurtado','Ortega','Contreras','Lopez']\n",
    "\n",
    "zip_elemento = zip(lista8,lista9)\n",
    "\n",
    "lista10 = list(zip_elemento) #para convertir a tupla se usa tuple()\n",
    "\n",
    "print(lista10)\n"
   ]
  },
  {
   "attachments": {},
   "cell_type": "markdown",
   "metadata": {},
   "source": [
    "14) A partir de la siguiente lista de números, crear una nueva sólo si el número es divisible por 7<br>\n",
    "lis = [18,21,29,32,35,42,56,60,63,71,84,90,91,100]"
   ]
  },
  {
   "cell_type": "code",
   "execution_count": 83,
   "metadata": {},
   "outputs": [
    {
     "name": "stdout",
     "output_type": "stream",
     "text": [
      "[21, 35, 42, 56, 63, 84, 91]\n"
     ]
    }
   ],
   "source": [
    "lis = [18,21,29,32,35,42,56,60,63,71,84,90,91,100]\n",
    "lista_m_7 = []\n",
    "\n",
    "for e in lis:\n",
    "    if e % 7 == 0:\n",
    "        lista_m_7.append(e)\n",
    "    else:\n",
    "        pass\n",
    "print(lista_m_7)\n"
   ]
  },
  {
   "attachments": {},
   "cell_type": "markdown",
   "metadata": {},
   "source": [
    "Más fácil y comprimido:"
   ]
  },
  {
   "cell_type": "code",
   "execution_count": 87,
   "metadata": {},
   "outputs": [
    {
     "name": "stdout",
     "output_type": "stream",
     "text": [
      "[21, 35, 42, 56, 63, 84, 91]\n"
     ]
    }
   ],
   "source": [
    "lis = [18,21,29,32,35,42,56,60,63,71,84,90,91,100]\n",
    "lista_m = [i for i in lis if i % 7 == 0] #La primera i sirve para agregar elemento a la lista_m, lo demas es for y condicional\n",
    "print(lista_m)"
   ]
  },
  {
   "attachments": {},
   "cell_type": "markdown",
   "metadata": {},
   "source": [
    "15) A partir de la lista de a continuación, contar la cantidad total de elementos que contiene, teniendo en cuenta que un elemento de la lista podría ser otra lista:<br>\n",
    "lis = [[1,2,3,4],'rojo','verde',[True,False,False],['uno','dos','tres']]"
   ]
  },
  {
   "cell_type": "code",
   "execution_count": 91,
   "metadata": {},
   "outputs": [],
   "source": [
    "lista11 = [[1,2,3,4],'rojo','verde',[True,False,False],['uno','dos','tres']]"
   ]
  },
  {
   "cell_type": "code",
   "execution_count": 90,
   "metadata": {},
   "outputs": [
    {
     "name": "stdout",
     "output_type": "stream",
     "text": [
      "<class 'list'>\n",
      "<class 'str'>\n",
      "<class 'str'>\n",
      "<class 'list'>\n",
      "<class 'list'>\n"
     ]
    }
   ],
   "source": [
    "#Pre analisis\n",
    "for elemento in lista11:\n",
    "    print(type(elemento))"
   ]
  },
  {
   "cell_type": "code",
   "execution_count": 105,
   "metadata": {},
   "outputs": [],
   "source": [
    "lista11 = [[1,2,3,4],'rojo','verde',[True,False,False],['uno','dos','tres']]\n"
   ]
  },
  {
   "cell_type": "code",
   "execution_count": 106,
   "metadata": {},
   "outputs": [
    {
     "name": "stdout",
     "output_type": "stream",
     "text": [
      "1\n",
      "2\n",
      "3\n",
      "4\n",
      "True\n",
      "False\n",
      "False\n",
      "uno\n",
      "dos\n",
      "tres\n"
     ]
    }
   ],
   "source": [
    "#Pre analisis\n",
    "contador = 0\n",
    "for elemento in lista11:\n",
    "    if type(elemento) == list:\n",
    "        for i in elemento:\n",
    "            print(i)\n",
    "        "
   ]
  },
  {
   "cell_type": "code",
   "execution_count": 108,
   "metadata": {},
   "outputs": [
    {
     "name": "stdout",
     "output_type": "stream",
     "text": [
      "<class 'int'>\n",
      "4\n",
      "<class 'int'>\n",
      "3\n",
      "<class 'int'>\n",
      "3\n"
     ]
    }
   ],
   "source": [
    "#Pre analisis con codigo\n",
    "lista11 = [[1,2,3,4],'rojo','verde',[True,False,False],['uno','dos','tres']]\n",
    "\n",
    "contador = 0\n",
    "for elemento in lista11:\n",
    "    if type(elemento) == list:\n",
    "        print(type(len(elemento)))\n",
    "        print(len(elemento))\n",
    "            \n"
   ]
  },
  {
   "cell_type": "code",
   "execution_count": 111,
   "metadata": {},
   "outputs": [
    {
     "name": "stdout",
     "output_type": "stream",
     "text": [
      "La cantidad total de elementos es 12\n"
     ]
    }
   ],
   "source": [
    "#LISTO!:\n",
    "lista11 = [[1,2,3,4],'rojo','verde',[True,False,False],['uno','dos','tres']]\n",
    "\n",
    "contador = 0\n",
    "for elemento in lista11:\n",
    "    if type(elemento) == list:\n",
    "        contador += len(elemento) #es lo mismo que → contador = contador + len(elemento)\n",
    "    else:\n",
    "        contador += 1\n",
    "print('La cantidad total de elementos es',contador)\n",
    "            "
   ]
  },
  {
   "attachments": {},
   "cell_type": "markdown",
   "metadata": {},
   "source": [
    "16) Tomar la lista del punto anterior y convertir cada elemento en una lista si no lo es"
   ]
  },
  {
   "cell_type": "code",
   "execution_count": 129,
   "metadata": {},
   "outputs": [
    {
     "name": "stdout",
     "output_type": "stream",
     "text": [
      "[[1, 2, 3, 4], ['r', 'o', 'j', 'o'], ['v', 'e', 'r', 'd', 'e'], [True, False, False], ['uno', 'dos', 'tres']]\n"
     ]
    }
   ],
   "source": [
    "#Los que no son lista, se convierten en lista con cada uno de sus elementos:\n",
    "lista11 = [[1,2,3,4],'rojo','verde',[True,False,False],['uno','dos','tres']]\n",
    "\n",
    "for indice, elemento in enumerate(lista11):\n",
    "    if type(elemento) != list:\n",
    "        lista11[indice] = list(elemento)\n",
    "print(lista11)"
   ]
  },
  {
   "cell_type": "code",
   "execution_count": 132,
   "metadata": {},
   "outputs": [
    {
     "name": "stdout",
     "output_type": "stream",
     "text": [
      "[[1, 2, 3, 4], ['rojo'], ['verde'], [True, False, False], ['uno', 'dos', 'tres']]\n"
     ]
    }
   ],
   "source": [
    "#Los que no son lista, se convierten en elementos únicos de su lista\n",
    "lista11 = [[1,2,3,4],'rojo','verde',[True,False,False],['uno','dos','tres']]\n",
    "\n",
    "for indice, elemento in enumerate(lista11):\n",
    "    if (type(elemento) != list):\n",
    "        lista11[indice]=[elemento]\n",
    "print(lista11)\n",
    "# [elemento] esta creando una lista con un solo elemento"
   ]
  }
 ],
 "metadata": {
  "interpreter": {
   "hash": "c85384e4cb51c8b72350f3a8712cc8351fdc3955e32a27f9b60c6242ab125f01"
  },
  "kernelspec": {
   "display_name": "Python 3 (ipykernel)",
   "language": "python",
   "name": "python3"
  },
  "language_info": {
   "codemirror_mode": {
    "name": "ipython",
    "version": 3
   },
   "file_extension": ".py",
   "mimetype": "text/x-python",
   "name": "python",
   "nbconvert_exporter": "python",
   "pygments_lexer": "ipython3",
   "version": "3.11.3"
  }
 },
 "nbformat": 4,
 "nbformat_minor": 4
}
